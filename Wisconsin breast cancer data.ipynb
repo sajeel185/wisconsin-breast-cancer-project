{
 "cells": [
  {
   "cell_type": "code",
   "execution_count": 28,
   "metadata": {},
   "outputs": [],
   "source": [
    "import pandas as pd\n",
    "import numpy as np\n",
    "import matplotlib.pyplot as plt\n",
    "%matplotlib inline\n",
    "import seaborn as sns\n",
    "from sklearn.naive_bayes import BernoulliNB\n",
    "from sklearn.model_selection import train_test_split\n",
    "from sklearn.metrics import confusion_matrix\n",
    "from sklearn.neighbors import KNeighborsClassifier\n",
    "from scipy import stats\n",
    "from sklearn.model_selection import cross_val_score\n",
    "from sklearn.model_selection import GridSearchCV\n",
    "from sklearn import ensemble\n",
    "from sklearn import tree\n",
    "from sklearn.linear_model import LogisticRegression\n",
    "from sklearn import metrics\n",
    "from sklearn.metrics import classification_report\n",
    "from sklearn.metrics import roc_curve\n",
    "from sklearn.metrics import roc_auc_score\n",
    "import datetime\n",
    "from sklearn.preprocessing import StandardScaler\n",
    "from sklearn.decomposition import PCA\n",
    "from sklearn.feature_selection import SelectKBest\n",
    "from sklearn.feature_selection import chi2\n",
    "from sklearn.feature_selection import f_classif"
   ]
  },
  {
   "cell_type": "markdown",
   "metadata": {},
   "source": [
    "### The dataset that we will use for this project will be the \"Breast Cancer Wisconsin (Diagnostic) Data Set, and it deals with binary classification and includes features computed from digitized images of biopsies.  I will perform many types of models and select the one that gives us the best cross validated score, while balancing the performance time.  Also, I will provide classification reports, ROC curves and AUC scores for each respective model"
   ]
  },
  {
   "cell_type": "code",
   "execution_count": 29,
   "metadata": {},
   "outputs": [
    {
     "name": "stdout",
     "output_type": "stream",
     "text": [
      "   SampleCode  ClumpThickness  UniformityCellSize  Uniformity_CellShape  \\\n",
      "0     1000025               5                   1                     1   \n",
      "1     1002945               5                   4                     4   \n",
      "2     1015425               3                   1                     1   \n",
      "3     1016277               6                   8                     8   \n",
      "4     1017023               4                   1                     1   \n",
      "\n",
      "   MarginalAdhesion  Single_Epi_CellSize BareNuclei  BlandChromatin  \\\n",
      "0                 1                    2          1               3   \n",
      "1                 5                    7         10               3   \n",
      "2                 1                    2          2               3   \n",
      "3                 1                    3          4               3   \n",
      "4                 3                    2          1               3   \n",
      "\n",
      "   NormalNucleolei  Mitosis  Class  \n",
      "0                1        1      2  \n",
      "1                2        1      2  \n",
      "2                1        1      2  \n",
      "3                7        1      2  \n",
      "4                1        1      2  \n",
      "(691, 11)\n"
     ]
    }
   ],
   "source": [
    "column_names = ['SampleCode', 'ClumpThickness', 'UniformityCellSize', 'Uniformity_CellShape', 'MarginalAdhesion',\n",
    "               'Single_Epi_CellSize', 'BareNuclei', 'BlandChromatin', 'NormalNucleolei', 'Mitosis', 'Class']\n",
    "\n",
    "df = pd.read_csv('breast cancer wisconsin.csv', names=column_names)\n",
    "df = df.drop_duplicates()\n",
    "# = df.reset_index()\n",
    "print(df.head())\n",
    "print(df.shape)"
   ]
  },
  {
   "cell_type": "code",
   "execution_count": 30,
   "metadata": {},
   "outputs": [],
   "source": [
    "#replace strings with numbers\n",
    "df['BareNuclei'] = df['BareNuclei'].str.replace('?', '1')\n",
    "#print(df['BareNuclei'][:50])\n",
    "\n",
    "#check to see if all values in series is numeric\n",
    "#print(df['BareNuclei'][:50].str.isnumeric())"
   ]
  },
  {
   "cell_type": "code",
   "execution_count": 31,
   "metadata": {},
   "outputs": [
    {
     "name": "stdout",
     "output_type": "stream",
     "text": [
      "453\n",
      "238\n"
     ]
    }
   ],
   "source": [
    "# Resampling our data to correct for imbalance in our class variable\n",
    "\n",
    "# Class count, 2 represents benign, and 4 represents malignant\n",
    "count_class_2, count_class_4 = df.Class.value_counts()\n",
    "print(count_class_2)\n",
    "print(count_class_4)\n",
    "# Divide by class\n",
    "df_class_2 = df[df['Class'] == 2]\n",
    "df_class_4 = df[df['Class'] == 4]"
   ]
  },
  {
   "cell_type": "code",
   "execution_count": 32,
   "metadata": {},
   "outputs": [
    {
     "name": "stdout",
     "output_type": "stream",
     "text": [
      "Random under-sampling:\n",
      "4    238\n",
      "2    238\n",
      "Name: Class, dtype: int64\n"
     ]
    },
    {
     "data": {
      "text/plain": [
       "<matplotlib.axes._subplots.AxesSubplot at 0xd06553bd30>"
      ]
     },
     "execution_count": 32,
     "metadata": {},
     "output_type": "execute_result"
    },
    {
     "data": {
      "image/png": "[encoded data removed]",
      "text/plain": [
       "<Figure size 432x288 with 1 Axes>"
      ]
     },
     "metadata": {
      "needs_background": "light"
     },
     "output_type": "display_data"
    }
   ],
   "source": [
    "#extract the observations with class zero, equal to the number of obervations equal\n",
    "df_class_2_under = df_class_2.sample(count_class_4)\n",
    "\n",
    "#create a new dataframe with the same number of values for our two classes\n",
    "new_df = pd.concat([df_class_2_under, df_class_4], axis=0)\n",
    "\n",
    "print('Random under-sampling:')\n",
    "print(new_df.Class.value_counts())\n",
    "\n",
    "new_df.Class.value_counts().plot(kind='bar', title='Count (target)')"
   ]
  },
  {
   "cell_type": "code",
   "execution_count": 33,
   "metadata": {},
   "outputs": [
    {
     "data": {
      "text/plain": [
       "SampleCode              0\n",
       "ClumpThickness          0\n",
       "UniformityCellSize      0\n",
       "Uniformity_CellShape    0\n",
       "MarginalAdhesion        0\n",
       "Single_Epi_CellSize     0\n",
       "BareNuclei              0\n",
       "BlandChromatin          0\n",
       "NormalNucleolei         0\n",
       "Mitosis                 0\n",
       "Class                   0\n",
       "dtype: int64"
      ]
     },
     "execution_count": 33,
     "metadata": {},
     "output_type": "execute_result"
    }
   ],
   "source": [
    "#check for any null spaces in our data\n",
    "new_df.isnull().sum()"
   ]
  },
  {
   "cell_type": "code",
   "execution_count": 34,
   "metadata": {},
   "outputs": [
    {
     "name": "stdout",
     "output_type": "stream",
     "text": [
      "(476, 9)\n",
      "(476,)\n"
     ]
    }
   ],
   "source": [
    "#split the data\n",
    "X = new_df.drop(['Class', 'SampleCode'], 1)\n",
    "\n",
    "#make the dependent 'class' variable binary\n",
    "new_df['Class'] = np.where(new_df['Class'] > 2, 1, 0)\n",
    "\n",
    "Y = new_df['Class']\n",
    "\n",
    "print(X.shape)\n",
    "print(Y.shape)\n",
    "#print(Y)"
   ]
  },
  {
   "cell_type": "code",
   "execution_count": 35,
   "metadata": {},
   "outputs": [
    {
     "name": "stdout",
     "output_type": "stream",
     "text": [
      "AxesSubplot(0.125,0.125;0.62x0.755)\n"
     ]
    },
    {
     "data": {
      "image/png": "[encoded data removed]",
      "text/plain": [
       "<Figure size 432x288 with 2 Axes>"
      ]
     },
     "metadata": {
      "needs_background": "light"
     },
     "output_type": "display_data"
    }
   ],
   "source": [
    "#Creating a heatmap to check for any correlation between our independent variables.\n",
    "Xvar_heatmap = sns.heatmap(X.corr(), vmin=-1, vmax=1)\n",
    "\n",
    "print(Xvar_heatmap)\n"
   ]
  },
  {
   "cell_type": "markdown",
   "metadata": {},
   "source": [
    "#### From the heatmap above, we see that there is correlation between some of our independent variables.  Specifically the independent variables related to cell shape and cell size, such as Uniformity_CellShape, UniformityCellSize and Single_Epi_CellSize, have high correlations with each other.  This could be problematic for some of our models; for  example with Naive Bayes because of this model's assumption that all independent variables are completely independent of each other. "
   ]
  },
  {
   "cell_type": "code",
   "execution_count": 135,
   "metadata": {},
   "outputs": [
    {
     "data": {
      "image/png": "[encoded data removed]",
      "text/plain": [
       "<Figure size 720x360 with 2 Axes>"
      ]
     },
     "metadata": {
      "needs_background": "light"
     },
     "output_type": "display_data"
    }
   ],
   "source": [
    "#column_names = ['SampleCode', 'ClumpThickness', 'UniformityCellSize', 'Uniformity_CellShape', 'MarginalAdhesion',\n",
    "#               'Single_Epi_CellSize', 'BareNuclei', 'BlandChromatin', 'NormalNucleolei', 'Mitosis', 'Class']\n",
    "\n",
    "\n",
    "#plotting the relationship between the independent and dependent variables, as well as the histograpsh of independent variables.\n",
    "plt.figure(figsize=(10, 5))\n",
    "\n",
    "plt.subplot(1, 2, 1)\n",
    "plt.scatter(x = new_df['ClumpThickness'], y = new_df['Class'], color='blue')\n",
    "plt.ylabel('Values')\n",
    "plt.title('Relationship between ClumpThickness and Class')\n",
    "\n",
    "plt.subplot(1, 2, 2)\n",
    "plt.hist(new_df['ClumpThickness'], color='green')\n",
    "plt.axvline(new_df['ClumpThickness'].mean(), color='b', linestyle='solid', linewidth=2)\n",
    "plt.axvline(new_df['ClumpThickness'].mean() + new_df['ClumpThickness'].std(), color='b', linestyle='dashed', linewidth=2)\n",
    "plt.axvline(new_df['ClumpThickness'].mean()- new_df['ClumpThickness'].std(), color='b', linestyle='dashed', linewidth=2) \n",
    "plt.ylabel('values')\n",
    "plt.title('ClumpThickness')\n",
    "\n",
    "plt.tight_layout()\n",
    "plt.show()"
   ]
  },
  {
   "cell_type": "code",
   "execution_count": 136,
   "metadata": {},
   "outputs": [
    {
     "data": {
      "image/png": "[encoded data removed]",
      "text/plain": [
       "<Figure size 720x360 with 2 Axes>"
      ]
     },
     "metadata": {
      "needs_background": "light"
     },
     "output_type": "display_data"
    }
   ],
   "source": [
    "plt.figure(figsize=(10, 5))\n",
    "\n",
    "plt.subplot(1, 2, 1)\n",
    "plt.scatter(x = new_df['UniformityCellSize'], y = new_df['Class'], color='blue')\n",
    "plt.ylabel('Values')\n",
    "plt.title('Relationship between UniformityCellSize and Class')\n",
    "\n",
    "plt.subplot(1, 2, 2)\n",
    "plt.hist(new_df['UniformityCellSize'], color='green')\n",
    "plt.axvline(new_df['UniformityCellSize'].mean(), color='b', linestyle='solid', linewidth=2)\n",
    "plt.axvline(new_df['UniformityCellSize'].mean() + new_df['UniformityCellSize'].std(), color='b', linestyle='dashed', linewidth=2)\n",
    "plt.axvline(new_df['UniformityCellSize'].mean()- new_df['UniformityCellSize'].std(), color='b', linestyle='dashed', linewidth=2) \n",
    "plt.ylabel('values')\n",
    "plt.title('UniformityCellSize')\n",
    "\n",
    "plt.tight_layout()\n",
    "plt.show()"
   ]
  },
  {
   "cell_type": "code",
   "execution_count": 137,
   "metadata": {},
   "outputs": [
    {
     "data": {
      "image/png": "[encoded data removed]",
      "text/plain": [
       "<Figure size 720x360 with 2 Axes>"
      ]
     },
     "metadata": {
      "needs_background": "light"
     },
     "output_type": "display_data"
    }
   ],
   "source": [
    "plt.figure(figsize=(10, 5))\n",
    "\n",
    "plt.subplot(1, 2, 1)\n",
    "plt.scatter(x = new_df['Uniformity_CellShape'], y = new_df['Class'], color='blue')\n",
    "plt.ylabel('Values')\n",
    "plt.title('Relationship between Uniformity_CellShape and Class')\n",
    "\n",
    "plt.subplot(1, 2, 2)\n",
    "plt.hist(new_df['Uniformity_CellShape'], color='green')\n",
    "plt.axvline(new_df['Uniformity_CellShape'].mean(), color='b', linestyle='solid', linewidth=2)\n",
    "plt.axvline(new_df['Uniformity_CellShape'].mean() + new_df['Uniformity_CellShape'].std(), color='b', linestyle='dashed', linewidth=2)\n",
    "plt.axvline(new_df['Uniformity_CellShape'].mean()- new_df['Uniformity_CellShape'].std(), color='b', linestyle='dashed', linewidth=2) \n",
    "plt.ylabel('values')\n",
    "plt.title('Uniformity_CellShape')\n",
    "\n",
    "plt.tight_layout()\n",
    "plt.show()"
   ]
  },
  {
   "cell_type": "code",
   "execution_count": 138,
   "metadata": {},
   "outputs": [
    {
     "data": {
      "image/png": "[encoded data removed]",
      "text/plain": [
       "<Figure size 720x360 with 2 Axes>"
      ]
     },
     "metadata": {
      "needs_background": "light"
     },
     "output_type": "display_data"
    }
   ],
   "source": [
    "plt.figure(figsize=(10, 5))\n",
    "\n",
    "plt.subplot(1, 2, 1)\n",
    "plt.scatter(x = new_df['MarginalAdhesion'], y = new_df['Class'], color='blue')\n",
    "plt.ylabel('Values')\n",
    "plt.title('Relationship between MarginalAdhesion and Class')\n",
    "\n",
    "plt.subplot(1, 2, 2)\n",
    "plt.hist(new_df['MarginalAdhesion'], color='green')\n",
    "plt.axvline(new_df['MarginalAdhesion'].mean(), color='b', linestyle='solid', linewidth=2)\n",
    "plt.axvline(new_df['MarginalAdhesion'].mean() + new_df['MarginalAdhesion'].std(), color='b', linestyle='dashed', linewidth=2)\n",
    "plt.axvline(new_df['MarginalAdhesion'].mean()- new_df['MarginalAdhesion'].std(), color='b', linestyle='dashed', linewidth=2) \n",
    "plt.ylabel('values')\n",
    "plt.title('MarginalAdhesion')\n",
    "\n",
    "plt.tight_layout()\n",
    "plt.show()"
   ]
  },
  {
   "cell_type": "code",
   "execution_count": 139,
   "metadata": {},
   "outputs": [
    {
     "data": {
      "image/png": "[encoded data removed]",
      "text/plain": [
       "<Figure size 720x360 with 2 Axes>"
      ]
     },
     "metadata": {
      "needs_background": "light"
     },
     "output_type": "display_data"
    }
   ],
   "source": [
    "plt.figure(figsize=(10, 5))\n",
    "\n",
    "plt.subplot(1, 2, 1)\n",
    "plt.scatter(x = new_df['Single_Epi_CellSize'], y = new_df['Class'], color='blue')\n",
    "plt.ylabel('Values')\n",
    "plt.title('Relationship between Single_Epi_CellSize and Class')\n",
    "\n",
    "plt.subplot(1, 2, 2)\n",
    "plt.hist(new_df['Single_Epi_CellSize'], color='green')\n",
    "plt.axvline(new_df['Single_Epi_CellSize'].mean(), color='b', linestyle='solid', linewidth=2)\n",
    "plt.axvline(new_df['Single_Epi_CellSize'].mean() + new_df['Single_Epi_CellSize'].std(), color='b', linestyle='dashed', linewidth=2)\n",
    "plt.axvline(new_df['Single_Epi_CellSize'].mean()- new_df['Single_Epi_CellSize'].std(), color='b', linestyle='dashed', linewidth=2) \n",
    "plt.ylabel('values')\n",
    "plt.title('Single_Epi_CellSize')\n",
    "\n",
    "plt.tight_layout()\n",
    "plt.show()"
   ]
  },
  {
   "cell_type": "code",
   "execution_count": 142,
   "metadata": {},
   "outputs": [
    {
     "ename": "ValueError",
     "evalue": "color kwarg must have one color per dataset",
     "output_type": "error",
     "traceback": [
      "\u001b[1;31m---------------------------------------------------------------------------\u001b[0m",
      "\u001b[1;31mValueError\u001b[0m                                Traceback (most recent call last)",
      "\u001b[1;32m<ipython-input-142-bac3b32b43d4>\u001b[0m in \u001b[0;36m<module>\u001b[1;34m()\u001b[0m\n\u001b[0;32m      7\u001b[0m \u001b[1;33m\u001b[0m\u001b[0m\n\u001b[0;32m      8\u001b[0m \u001b[0mplt\u001b[0m\u001b[1;33m.\u001b[0m\u001b[0msubplot\u001b[0m\u001b[1;33m(\u001b[0m\u001b[1;36m1\u001b[0m\u001b[1;33m,\u001b[0m \u001b[1;36m2\u001b[0m\u001b[1;33m,\u001b[0m \u001b[1;36m2\u001b[0m\u001b[1;33m)\u001b[0m\u001b[1;33m\u001b[0m\u001b[0m\n\u001b[1;32m----> 9\u001b[1;33m \u001b[0mplt\u001b[0m\u001b[1;33m.\u001b[0m\u001b[0mhist\u001b[0m\u001b[1;33m(\u001b[0m\u001b[0mnew_df\u001b[0m\u001b[1;33m[\u001b[0m\u001b[1;34m'BareNuclei'\u001b[0m\u001b[1;33m]\u001b[0m\u001b[1;33m,\u001b[0m \u001b[0mcolor\u001b[0m\u001b[1;33m=\u001b[0m\u001b[1;34m'purple'\u001b[0m\u001b[1;33m)\u001b[0m\u001b[1;33m\u001b[0m\u001b[0m\n\u001b[0m\u001b[0;32m     10\u001b[0m \u001b[0mplt\u001b[0m\u001b[1;33m.\u001b[0m\u001b[0maxvline\u001b[0m\u001b[1;33m(\u001b[0m\u001b[0mnew_df\u001b[0m\u001b[1;33m[\u001b[0m\u001b[1;34m'BareNuclei'\u001b[0m\u001b[1;33m]\u001b[0m\u001b[1;33m.\u001b[0m\u001b[0mmean\u001b[0m\u001b[1;33m(\u001b[0m\u001b[1;33m)\u001b[0m\u001b[1;33m,\u001b[0m \u001b[0mcolor\u001b[0m\u001b[1;33m=\u001b[0m\u001b[1;34m'b'\u001b[0m\u001b[1;33m,\u001b[0m \u001b[0mlinestyle\u001b[0m\u001b[1;33m=\u001b[0m\u001b[1;34m'solid'\u001b[0m\u001b[1;33m,\u001b[0m \u001b[0mlinewidth\u001b[0m\u001b[1;33m=\u001b[0m\u001b[1;36m2\u001b[0m\u001b[1;33m)\u001b[0m\u001b[1;33m\u001b[0m\u001b[0m\n\u001b[0;32m     11\u001b[0m \u001b[0mplt\u001b[0m\u001b[1;33m.\u001b[0m\u001b[0maxvline\u001b[0m\u001b[1;33m(\u001b[0m\u001b[0mnew_df\u001b[0m\u001b[1;33m[\u001b[0m\u001b[1;34m'BareNuclei'\u001b[0m\u001b[1;33m]\u001b[0m\u001b[1;33m.\u001b[0m\u001b[0mmean\u001b[0m\u001b[1;33m(\u001b[0m\u001b[1;33m)\u001b[0m \u001b[1;33m+\u001b[0m \u001b[0mnew_df\u001b[0m\u001b[1;33m[\u001b[0m\u001b[1;34m'BareNuclei'\u001b[0m\u001b[1;33m]\u001b[0m\u001b[1;33m.\u001b[0m\u001b[0mstd\u001b[0m\u001b[1;33m(\u001b[0m\u001b[1;33m)\u001b[0m\u001b[1;33m,\u001b[0m \u001b[0mcolor\u001b[0m\u001b[1;33m=\u001b[0m\u001b[1;34m'b'\u001b[0m\u001b[1;33m,\u001b[0m \u001b[0mlinestyle\u001b[0m\u001b[1;33m=\u001b[0m\u001b[1;34m'dashed'\u001b[0m\u001b[1;33m,\u001b[0m \u001b[0mlinewidth\u001b[0m\u001b[1;33m=\u001b[0m\u001b[1;36m2\u001b[0m\u001b[1;33m)\u001b[0m\u001b[1;33m\u001b[0m\u001b[0m\n",
      "\u001b[1;32m~\\Anaconda3\\lib\\site-packages\\matplotlib\\pyplot.py\u001b[0m in \u001b[0;36mhist\u001b[1;34m(x, bins, range, density, weights, cumulative, bottom, histtype, align, orientation, rwidth, log, color, label, stacked, normed, hold, data, **kwargs)\u001b[0m\n\u001b[0;32m   3135\u001b[0m                       \u001b[0mhisttype\u001b[0m\u001b[1;33m=\u001b[0m\u001b[0mhisttype\u001b[0m\u001b[1;33m,\u001b[0m \u001b[0malign\u001b[0m\u001b[1;33m=\u001b[0m\u001b[0malign\u001b[0m\u001b[1;33m,\u001b[0m \u001b[0morientation\u001b[0m\u001b[1;33m=\u001b[0m\u001b[0morientation\u001b[0m\u001b[1;33m,\u001b[0m\u001b[1;33m\u001b[0m\u001b[0m\n\u001b[0;32m   3136\u001b[0m                       \u001b[0mrwidth\u001b[0m\u001b[1;33m=\u001b[0m\u001b[0mrwidth\u001b[0m\u001b[1;33m,\u001b[0m \u001b[0mlog\u001b[0m\u001b[1;33m=\u001b[0m\u001b[0mlog\u001b[0m\u001b[1;33m,\u001b[0m \u001b[0mcolor\u001b[0m\u001b[1;33m=\u001b[0m\u001b[0mcolor\u001b[0m\u001b[1;33m,\u001b[0m \u001b[0mlabel\u001b[0m\u001b[1;33m=\u001b[0m\u001b[0mlabel\u001b[0m\u001b[1;33m,\u001b[0m\u001b[1;33m\u001b[0m\u001b[0m\n\u001b[1;32m-> 3137\u001b[1;33m                       stacked=stacked, normed=normed, data=data, **kwargs)\n\u001b[0m\u001b[0;32m   3138\u001b[0m     \u001b[1;32mfinally\u001b[0m\u001b[1;33m:\u001b[0m\u001b[1;33m\u001b[0m\u001b[0m\n\u001b[0;32m   3139\u001b[0m         \u001b[0max\u001b[0m\u001b[1;33m.\u001b[0m\u001b[0m_hold\u001b[0m \u001b[1;33m=\u001b[0m \u001b[0mwashold\u001b[0m\u001b[1;33m\u001b[0m\u001b[0m\n",
      "\u001b[1;32m~\\Anaconda3\\lib\\site-packages\\matplotlib\\__init__.py\u001b[0m in \u001b[0;36minner\u001b[1;34m(ax, *args, **kwargs)\u001b[0m\n\u001b[0;32m   1865\u001b[0m                         \u001b[1;34m\"the Matplotlib list!)\"\u001b[0m \u001b[1;33m%\u001b[0m \u001b[1;33m(\u001b[0m\u001b[0mlabel_namer\u001b[0m\u001b[1;33m,\u001b[0m \u001b[0mfunc\u001b[0m\u001b[1;33m.\u001b[0m\u001b[0m__name__\u001b[0m\u001b[1;33m)\u001b[0m\u001b[1;33m,\u001b[0m\u001b[1;33m\u001b[0m\u001b[0m\n\u001b[0;32m   1866\u001b[0m                         RuntimeWarning, stacklevel=2)\n\u001b[1;32m-> 1867\u001b[1;33m             \u001b[1;32mreturn\u001b[0m \u001b[0mfunc\u001b[0m\u001b[1;33m(\u001b[0m\u001b[0max\u001b[0m\u001b[1;33m,\u001b[0m \u001b[1;33m*\u001b[0m\u001b[0margs\u001b[0m\u001b[1;33m,\u001b[0m \u001b[1;33m**\u001b[0m\u001b[0mkwargs\u001b[0m\u001b[1;33m)\u001b[0m\u001b[1;33m\u001b[0m\u001b[0m\n\u001b[0m\u001b[0;32m   1868\u001b[0m \u001b[1;33m\u001b[0m\u001b[0m\n\u001b[0;32m   1869\u001b[0m         inner.__doc__ = _add_data_doc(inner.__doc__,\n",
      "\u001b[1;32m~\\Anaconda3\\lib\\site-packages\\matplotlib\\axes\\_axes.py\u001b[0m in \u001b[0;36mhist\u001b[1;34m(***failed resolving arguments***)\u001b[0m\n\u001b[0;32m   6611\u001b[0m             \u001b[0mcolor\u001b[0m \u001b[1;33m=\u001b[0m \u001b[0mmcolors\u001b[0m\u001b[1;33m.\u001b[0m\u001b[0mto_rgba_array\u001b[0m\u001b[1;33m(\u001b[0m\u001b[0mcolor\u001b[0m\u001b[1;33m)\u001b[0m\u001b[1;33m\u001b[0m\u001b[0m\n\u001b[0;32m   6612\u001b[0m             \u001b[1;32mif\u001b[0m \u001b[0mlen\u001b[0m\u001b[1;33m(\u001b[0m\u001b[0mcolor\u001b[0m\u001b[1;33m)\u001b[0m \u001b[1;33m!=\u001b[0m \u001b[0mnx\u001b[0m\u001b[1;33m:\u001b[0m\u001b[1;33m\u001b[0m\u001b[0m\n\u001b[1;32m-> 6613\u001b[1;33m                 \u001b[1;32mraise\u001b[0m \u001b[0mValueError\u001b[0m\u001b[1;33m(\u001b[0m\u001b[1;34m\"color kwarg must have one color per dataset\"\u001b[0m\u001b[1;33m)\u001b[0m\u001b[1;33m\u001b[0m\u001b[0m\n\u001b[0m\u001b[0;32m   6614\u001b[0m \u001b[1;33m\u001b[0m\u001b[0m\n\u001b[0;32m   6615\u001b[0m         \u001b[1;31m# If bins are not specified either explicitly or via range,\u001b[0m\u001b[1;33m\u001b[0m\u001b[1;33m\u001b[0m\u001b[0m\n",
      "\u001b[1;31mValueError\u001b[0m: color kwarg must have one color per dataset"
     ]
    },
    {
     "data": {
      "image/png": "[encoded data removed]",
      "text/plain": [
       "<Figure size 720x360 with 2 Axes>"
      ]
     },
     "metadata": {
      "needs_background": "light"
     },
     "output_type": "display_data"
    }
   ],
   "source": [
    "plt.figure(figsize=(10, 5))\n",
    "\n",
    "plt.subplot(1, 2, 1)\n",
    "plt.scatter(x = new_df['BareNuclei'], y = new_df['Class'], color='blue')\n",
    "plt.ylabel('Values')\n",
    "plt.title('Relationship between BareNuclei and Class')\n",
    "\n",
    "plt.subplot(1, 2, 2)\n",
    "plt.hist(new_df['BareNuclei'], color='green')\n",
    "plt.axvline(new_df['BareNuclei'].mean(), color='b', linestyle='solid', linewidth=2)\n",
    "plt.axvline(new_df['BareNuclei'].mean() + new_df['BareNuclei'].std(), color='b', linestyle='dashed', linewidth=2)\n",
    "plt.axvline(new_df['BareNuclei'].mean()- new_df['BareNuclei'].std(), color='b', linestyle='dashed', linewidth=2) \n",
    "plt.ylabel('values')\n",
    "plt.title('BareNuclei')\n",
    "\n",
    "plt.tight_layout()\n",
    "plt.show()"
   ]
  },
  {
   "cell_type": "code",
   "execution_count": 143,
   "metadata": {},
   "outputs": [
    {
     "data": {
      "image/png": "[encoded data removed]",
      "text/plain": [
       "<Figure size 720x360 with 2 Axes>"
      ]
     },
     "metadata": {
      "needs_background": "light"
     },
     "output_type": "display_data"
    }
   ],
   "source": [
    "plt.figure(figsize=(10, 5))\n",
    "\n",
    "plt.subplot(1, 2, 1)\n",
    "plt.scatter(x = new_df['BlandChromatin'], y = new_df['Class'], color='blue')\n",
    "plt.ylabel('Values')\n",
    "plt.title('Relationship between BlandChromatin and Class')\n",
    "\n",
    "plt.subplot(1, 2, 2)\n",
    "plt.hist(new_df['BlandChromatin'], color='green')\n",
    "plt.axvline(new_df['BlandChromatin'].mean(), color='b', linestyle='solid', linewidth=2)\n",
    "plt.axvline(new_df['BlandChromatin'].mean() + new_df['BlandChromatin'].std(), color='b', linestyle='dashed', linewidth=2)\n",
    "plt.axvline(new_df['BlandChromatin'].mean()- new_df['BlandChromatin'].std(), color='b', linestyle='dashed', linewidth=2) \n",
    "plt.ylabel('values')\n",
    "plt.title('BlandChromatin')\n",
    "\n",
    "plt.tight_layout()\n",
    "plt.show()"
   ]
  },
  {
   "cell_type": "code",
   "execution_count": 144,
   "metadata": {},
   "outputs": [
    {
     "data": {
      "image/png": "[encoded data removed]",
      "text/plain": [
       "<Figure size 720x360 with 2 Axes>"
      ]
     },
     "metadata": {
      "needs_background": "light"
     },
     "output_type": "display_data"
    }
   ],
   "source": [
    "plt.figure(figsize=(10, 5))\n",
    "\n",
    "plt.subplot(1, 2, 1)\n",
    "plt.scatter(x = new_df['NormalNucleolei'], y = new_df['Class'], color='blue')\n",
    "plt.ylabel('Values')\n",
    "plt.title('Relationship between NormalNuleolei and Class')\n",
    "\n",
    "plt.subplot(1, 2, 2)\n",
    "plt.hist(new_df['NormalNucleolei'], color='green')\n",
    "plt.axvline(new_df['NormalNucleolei'].mean(), color='b', linestyle='solid', linewidth=2)\n",
    "plt.axvline(new_df['NormalNucleolei'].mean() + new_df['NormalNucleolei'].std(), color='b', linestyle='dashed', linewidth=2)\n",
    "plt.axvline(new_df['NormalNucleolei'].mean()- new_df['NormalNucleolei'].std(), color='b', linestyle='dashed', linewidth=2) \n",
    "plt.ylabel('values')\n",
    "plt.title('NormalNucleolei')\n",
    "\n",
    "plt.tight_layout()\n",
    "plt.show()"
   ]
  },
  {
   "cell_type": "code",
   "execution_count": 145,
   "metadata": {},
   "outputs": [
    {
     "data": {
      "image/png": "[encoded data removed]",
      "text/plain": [
       "<Figure size 720x360 with 2 Axes>"
      ]
     },
     "metadata": {
      "needs_background": "light"
     },
     "output_type": "display_data"
    }
   ],
   "source": [
    "plt.figure(figsize=(10, 5))\n",
    "\n",
    "plt.subplot(1, 2, 1)\n",
    "plt.scatter(x = new_df['Mitosis'], y = new_df['Class'], color='blue')\n",
    "plt.ylabel('Values')\n",
    "plt.title('Relationship between Mitosis and Class')\n",
    "\n",
    "plt.subplot(1, 2, 2)\n",
    "plt.hist(new_df['Mitosis'], color='green')\n",
    "plt.axvline(new_df['Mitosis'].mean(), color='b', linestyle='solid', linewidth=2)\n",
    "plt.axvline(new_df['Mitosis'].mean() + new_df['Mitosis'].std(), color='b', linestyle='dashed', linewidth=2)\n",
    "plt.axvline(new_df['Mitosis'].mean()- new_df['Mitosis'].std(), color='b', linestyle='dashed', linewidth=2) \n",
    "plt.ylabel('values')\n",
    "plt.title('Mitosis')\n",
    "\n",
    "plt.tight_layout()\n",
    "plt.show()"
   ]
  },
  {
   "cell_type": "code",
   "execution_count": 149,
   "metadata": {},
   "outputs": [],
   "source": [
    "#sns.pairplot(X)\n",
    "#X_grid = sns.PairGrid(X)\n",
    "#X_grid = X_grid.map(plt.scatter)"
   ]
  },
  {
   "cell_type": "markdown",
   "metadata": {},
   "source": [
    "#### I will attempt to deal with this multicollinearity using PCA, and separately also with SelectKBest.  I will then run each model using the full feature dataset, the PCA dataset with reduced dimensions, and the SelectKBest dataset with the reduced number of features, side by side so that I can give an accurate comparison."
   ]
  },
  {
   "cell_type": "code",
   "execution_count": 37,
   "metadata": {},
   "outputs": [],
   "source": [
    "#initial set of train and test groups, before applying SelectKBest and PCA.\n",
    "\n",
    "train_X, test_X, train_Y, test_Y = train_test_split(X, Y, test_size=.3, random_state=10)"
   ]
  },
  {
   "cell_type": "markdown",
   "metadata": {},
   "source": [
    "# PCA:"
   ]
  },
  {
   "cell_type": "code",
   "execution_count": 38,
   "metadata": {},
   "outputs": [
    {
     "name": "stderr",
     "output_type": "stream",
     "text": [
      "C:\\Users\\PV-R68G\\Anaconda3\\lib\\site-packages\\sklearn\\preprocessing\\data.py:625: DataConversionWarning: Data with input dtype int64, object were all converted to float64 by StandardScaler.\n",
      "  return self.partial_fit(X, y)\n",
      "C:\\Users\\PV-R68G\\Anaconda3\\lib\\site-packages\\sklearn\\base.py:462: DataConversionWarning: Data with input dtype int64, object were all converted to float64 by StandardScaler.\n",
      "  return self.fit(X, **fit_params).transform(X)\n"
     ]
    }
   ],
   "source": [
    "# Normalize the data so that all variables have a mean of 0 and standard deviation\n",
    "# o\n",
    "\n",
    "X_scaled = StandardScaler().fit_transform(X)"
   ]
  },
  {
   "cell_type": "code",
   "execution_count": 39,
   "metadata": {},
   "outputs": [
    {
     "name": "stdout",
     "output_type": "stream",
     "text": [
      "7\n",
      "[0.63094098 0.09112861 0.06461984 0.05756111 0.04450879 0.03611761\n",
      " 0.03389202]\n"
     ]
    }
   ],
   "source": [
    "#Apply PCA\n",
    "\n",
    "pca = PCA(.95)\n",
    "X_pca = pca.fit_transform(X_scaled)\n",
    "\n",
    "comp_no = pca.n_components_\n",
    "comp_var_ratio = pca.explained_variance_ratio_\n",
    "\n",
    "print(comp_no)\n",
    "print(comp_var_ratio)\n",
    "#print(p_components)"
   ]
  },
  {
   "cell_type": "code",
   "execution_count": 40,
   "metadata": {},
   "outputs": [
    {
     "name": "stdout",
     "output_type": "stream",
     "text": [
      "          0         1         2         3         4         5         6\n",
      "0 -2.627225  0.320658  0.503690  0.125686  0.115242  0.188199  0.053465\n",
      "1 -2.392459  0.049797  0.770147 -0.537064 -0.222307  0.111515  0.259926\n",
      "2 -2.425216  0.223587 -0.059423  0.050213  0.097155  0.038588  0.223547\n",
      "3 -1.772707  0.516493 -0.510069 -0.181802  0.081603 -0.378453  0.397278\n",
      "4 -2.019067  0.078353  0.764373  0.132832  0.077406 -0.199504 -0.364079\n",
      "(476, 7)\n"
     ]
    }
   ],
   "source": [
    "#pca data to dataframe\n",
    "pca_df = pd.DataFrame(data=X_pca)\n",
    "print(pca_df.head())\n",
    "print(pca_df.shape)"
   ]
  },
  {
   "cell_type": "code",
   "execution_count": 41,
   "metadata": {},
   "outputs": [],
   "source": [
    "#After applying PCA, I split the data into a second set of train and test groups\n",
    "\n",
    "train_X_pca, test_X_pca, train_Y_pca, test_Y_pca = train_test_split(X_pca, Y, test_size=.3, random_state=20)"
   ]
  },
  {
   "cell_type": "markdown",
   "metadata": {},
   "source": [
    "# SelectKBest:"
   ]
  },
  {
   "cell_type": "code",
   "execution_count": 99,
   "metadata": {},
   "outputs": [
    {
     "ename": "ValueError",
     "evalue": "k should be >=0, <= n_features = 9; got 10. Use k='all' to return all features.",
     "output_type": "error",
     "traceback": [
      "\u001b[1;31m---------------------------------------------------------------------------\u001b[0m",
      "\u001b[1;31mValueError\u001b[0m                                Traceback (most recent call last)",
      "\u001b[1;32m<ipython-input-99-83210c3cad68>\u001b[0m in \u001b[0;36m<module>\u001b[1;34m()\u001b[0m\n\u001b[0;32m      1\u001b[0m \u001b[1;31m#performing GridsearchCV to get the best parameters for SelectKBest.\u001b[0m\u001b[1;33m\u001b[0m\u001b[1;33m\u001b[0m\u001b[0m\n\u001b[1;32m----> 2\u001b[1;33m \u001b[0mKbest\u001b[0m \u001b[1;33m=\u001b[0m \u001b[0mSelectKBest\u001b[0m\u001b[1;33m(\u001b[0m\u001b[1;33m)\u001b[0m\u001b[1;33m.\u001b[0m\u001b[0mfit_transform\u001b[0m\u001b[1;33m(\u001b[0m\u001b[0mX\u001b[0m\u001b[1;33m,\u001b[0m \u001b[0mY\u001b[0m\u001b[1;33m)\u001b[0m\u001b[1;33m\u001b[0m\u001b[0m\n\u001b[0m\u001b[0;32m      3\u001b[0m \u001b[0mK_params\u001b[0m \u001b[1;33m=\u001b[0m \u001b[1;33m{\u001b[0m\u001b[1;34m'k'\u001b[0m\u001b[1;33m:\u001b[0m\u001b[1;33m[\u001b[0m\u001b[1;36m1\u001b[0m\u001b[1;33m,\u001b[0m\u001b[1;36m2\u001b[0m\u001b[1;33m,\u001b[0m\u001b[1;36m3\u001b[0m\u001b[1;33m,\u001b[0m\u001b[1;36m4\u001b[0m\u001b[1;33m,\u001b[0m\u001b[1;36m5\u001b[0m\u001b[1;33m,\u001b[0m\u001b[1;36m6\u001b[0m\u001b[1;33m]\u001b[0m\u001b[1;33m,\u001b[0m \u001b[1;34m'score_func'\u001b[0m\u001b[1;33m:\u001b[0m\u001b[1;33m[\u001b[0m\u001b[0mchi2\u001b[0m\u001b[1;33m,\u001b[0m \u001b[0mf_classif\u001b[0m\u001b[1;33m]\u001b[0m\u001b[1;33m}\u001b[0m\u001b[1;33m\u001b[0m\u001b[0m\n\u001b[0;32m      4\u001b[0m \u001b[0mKgrid\u001b[0m \u001b[1;33m=\u001b[0m \u001b[0mGridSearchCV\u001b[0m\u001b[1;33m(\u001b[0m\u001b[0mKbest\u001b[0m\u001b[1;33m,\u001b[0m \u001b[0mK_params\u001b[0m\u001b[1;33m,\u001b[0m \u001b[0mcv\u001b[0m\u001b[1;33m=\u001b[0m\u001b[1;36m5\u001b[0m\u001b[1;33m,\u001b[0m \u001b[0mscoring\u001b[0m\u001b[1;33m=\u001b[0m\u001b[1;34m'accuracy'\u001b[0m\u001b[1;33m)\u001b[0m\u001b[1;33m\u001b[0m\u001b[0m\n\u001b[0;32m      5\u001b[0m \u001b[0mKgrid\u001b[0m\u001b[1;33m.\u001b[0m\u001b[0mfit\u001b[0m\u001b[1;33m(\u001b[0m\u001b[0mX\u001b[0m\u001b[1;33m,\u001b[0m \u001b[0mY\u001b[0m\u001b[1;33m)\u001b[0m\u001b[1;33m\u001b[0m\u001b[0m\n",
      "\u001b[1;32m~\\Anaconda3\\lib\\site-packages\\sklearn\\base.py\u001b[0m in \u001b[0;36mfit_transform\u001b[1;34m(self, X, y, **fit_params)\u001b[0m\n\u001b[0;32m    463\u001b[0m         \u001b[1;32melse\u001b[0m\u001b[1;33m:\u001b[0m\u001b[1;33m\u001b[0m\u001b[0m\n\u001b[0;32m    464\u001b[0m             \u001b[1;31m# fit method of arity 2 (supervised transformation)\u001b[0m\u001b[1;33m\u001b[0m\u001b[1;33m\u001b[0m\u001b[0m\n\u001b[1;32m--> 465\u001b[1;33m             \u001b[1;32mreturn\u001b[0m \u001b[0mself\u001b[0m\u001b[1;33m.\u001b[0m\u001b[0mfit\u001b[0m\u001b[1;33m(\u001b[0m\u001b[0mX\u001b[0m\u001b[1;33m,\u001b[0m \u001b[0my\u001b[0m\u001b[1;33m,\u001b[0m \u001b[1;33m**\u001b[0m\u001b[0mfit_params\u001b[0m\u001b[1;33m)\u001b[0m\u001b[1;33m.\u001b[0m\u001b[0mtransform\u001b[0m\u001b[1;33m(\u001b[0m\u001b[0mX\u001b[0m\u001b[1;33m)\u001b[0m\u001b[1;33m\u001b[0m\u001b[0m\n\u001b[0m\u001b[0;32m    466\u001b[0m \u001b[1;33m\u001b[0m\u001b[0m\n\u001b[0;32m    467\u001b[0m \u001b[1;33m\u001b[0m\u001b[0m\n",
      "\u001b[1;32m~\\Anaconda3\\lib\\site-packages\\sklearn\\feature_selection\\univariate_selection.py\u001b[0m in \u001b[0;36mfit\u001b[1;34m(self, X, y)\u001b[0m\n\u001b[0;32m    346\u001b[0m                             % (self.score_func, type(self.score_func)))\n\u001b[0;32m    347\u001b[0m \u001b[1;33m\u001b[0m\u001b[0m\n\u001b[1;32m--> 348\u001b[1;33m         \u001b[0mself\u001b[0m\u001b[1;33m.\u001b[0m\u001b[0m_check_params\u001b[0m\u001b[1;33m(\u001b[0m\u001b[0mX\u001b[0m\u001b[1;33m,\u001b[0m \u001b[0my\u001b[0m\u001b[1;33m)\u001b[0m\u001b[1;33m\u001b[0m\u001b[0m\n\u001b[0m\u001b[0;32m    349\u001b[0m         \u001b[0mscore_func_ret\u001b[0m \u001b[1;33m=\u001b[0m \u001b[0mself\u001b[0m\u001b[1;33m.\u001b[0m\u001b[0mscore_func\u001b[0m\u001b[1;33m(\u001b[0m\u001b[0mX\u001b[0m\u001b[1;33m,\u001b[0m \u001b[0my\u001b[0m\u001b[1;33m)\u001b[0m\u001b[1;33m\u001b[0m\u001b[0m\n\u001b[0;32m    350\u001b[0m         \u001b[1;32mif\u001b[0m \u001b[0misinstance\u001b[0m\u001b[1;33m(\u001b[0m\u001b[0mscore_func_ret\u001b[0m\u001b[1;33m,\u001b[0m \u001b[1;33m(\u001b[0m\u001b[0mlist\u001b[0m\u001b[1;33m,\u001b[0m \u001b[0mtuple\u001b[0m\u001b[1;33m)\u001b[0m\u001b[1;33m)\u001b[0m\u001b[1;33m:\u001b[0m\u001b[1;33m\u001b[0m\u001b[0m\n",
      "\u001b[1;32m~\\Anaconda3\\lib\\site-packages\\sklearn\\feature_selection\\univariate_selection.py\u001b[0m in \u001b[0;36m_check_params\u001b[1;34m(self, X, y)\u001b[0m\n\u001b[0;32m    512\u001b[0m             raise ValueError(\"k should be >=0, <= n_features = %d; got %r. \"\n\u001b[0;32m    513\u001b[0m                              \u001b[1;34m\"Use k='all' to return all features.\"\u001b[0m\u001b[1;33m\u001b[0m\u001b[0m\n\u001b[1;32m--> 514\u001b[1;33m                              % (X.shape[1], self.k))\n\u001b[0m\u001b[0;32m    515\u001b[0m \u001b[1;33m\u001b[0m\u001b[0m\n\u001b[0;32m    516\u001b[0m     \u001b[1;32mdef\u001b[0m \u001b[0m_get_support_mask\u001b[0m\u001b[1;33m(\u001b[0m\u001b[0mself\u001b[0m\u001b[1;33m)\u001b[0m\u001b[1;33m:\u001b[0m\u001b[1;33m\u001b[0m\u001b[0m\n",
      "\u001b[1;31mValueError\u001b[0m: k should be >=0, <= n_features = 9; got 10. Use k='all' to return all features."
     ]
    }
   ],
   "source": [
    "#performing GridsearchCV to get the best parameters for SelectKBest.\n",
    "Kbest = SelectKBest().fit_transform(X, Y)\n",
    "K_params = {'k':[1,2,3,4,5,6], 'score_func':[chi2, f_classif]}\n",
    "Kgrid = GridSearchCV(Kbest, K_params, cv=5, scoring='accuracy')\n",
    "Kgrid.fit(X, Y)\n",
    "print('Best parameters for SelectKBest:', Kgrid.best_params_)"
   ]
  },
  {
   "cell_type": "code",
   "execution_count": 43,
   "metadata": {},
   "outputs": [
    {
     "name": "stdout",
     "output_type": "stream",
     "text": [
      "(476, 6)\n"
     ]
    }
   ],
   "source": [
    "#applying selectKBest.\n",
    "X_skb = SelectKBest(f_classif, k=6).fit_transform(X, Y)\n",
    "print(X_skb.shape)"
   ]
  },
  {
   "cell_type": "code",
   "execution_count": 44,
   "metadata": {},
   "outputs": [],
   "source": [
    "#After applying SelectKBest, I split the data into a third set of train and test groups\n",
    "train_X_skb, test_X_skb, train_Y_skb, test_Y_skb = train_test_split(X_skb, Y, test_size=.3, random_state=20)"
   ]
  },
  {
   "cell_type": "markdown",
   "metadata": {},
   "source": [
    "# Naive Bayes:"
   ]
  },
  {
   "cell_type": "code",
   "execution_count": 45,
   "metadata": {},
   "outputs": [
    {
     "name": "stdout",
     "output_type": "stream",
     "text": [
      "Accuracy score: 0.48951048951048953\n",
      "\n",
      "Duration: 0:00:00.008005\n",
      "\n",
      "[0.5 0.5 0.5 0.5 0.5 0.5 0.5 0.5 0.5 0.5]\n",
      "Average cross validated score from our Naive Bayes model is: 0.5\n"
     ]
    }
   ],
   "source": [
    "#Model using full dataset\n",
    "\n",
    "# Instantiate our model and store it in a variable\n",
    "bnb = BernoulliNB()\n",
    "\n",
    "#set start time\n",
    "start_time = datetime.datetime.now()\n",
    "\n",
    "# Fit our model to the data.\n",
    "bnb.fit(train_X, train_Y)\n",
    "\n",
    "# Classify, storing the result in a new variable.\n",
    "y_pred_bayes = bnb.predict(test_X)\n",
    "\n",
    "#Run accuracy score\n",
    "print('Accuracy score: ' + str(metrics.accuracy_score(test_Y, y_pred_bayes)))\n",
    "\n",
    "#calculate end time\n",
    "end_time = datetime.datetime.now()\n",
    "\n",
    "#print the execution run time for our model\n",
    "print('\\nDuration: {}'.format(end_time - start_time))\n",
    "print()\n",
    "\n",
    "#Use cross validation to gauge the accuracy of our model\n",
    "Nbayes_cvs = cross_val_score(bnb, X, Y, cv=10, scoring='accuracy')\n",
    "print(Nbayes_cvs)\n",
    "print('Average cross validated score from our Naive Bayes model is: ' + str(np.mean(Nbayes_cvs)))\n"
   ]
  },
  {
   "cell_type": "code",
   "execution_count": 46,
   "metadata": {},
   "outputs": [
    {
     "name": "stdout",
     "output_type": "stream",
     "text": [
      "AUC Score: 0.500\n"
     ]
    },
    {
     "data": {
      "image/png": "[encoded data removed]",
      "text/plain": [
       "<Figure size 432x288 with 1 Axes>"
      ]
     },
     "metadata": {
      "needs_background": "light"
     },
     "output_type": "display_data"
    }
   ],
   "source": [
    "# predict probabilities\n",
    "probs = bnb.predict_proba(test_X)\n",
    "# keep probabilities for the positive outcome only\n",
    "probs = probs[:, 1]\n",
    "# calculate AUC\n",
    "bayes_auc = roc_auc_score(test_Y, probs)\n",
    "print('AUC Score: %.3f' % bayes_auc)\n",
    "# calculate roc curve\n",
    "fpr, tpr, thresholds = roc_curve(test_Y, probs)\n",
    "# plot no skill\n",
    "plt.plot([0, 1], [0, 1], linestyle='--')\n",
    "# plot the roc curve for the model\n",
    "plt.plot(fpr, tpr, marker='.')\n",
    "# show the plot\n",
    "plt.show()"
   ]
  },
  {
   "cell_type": "code",
   "execution_count": 47,
   "metadata": {},
   "outputs": [
    {
     "name": "stdout",
     "output_type": "stream",
     "text": [
      "                   precision    recall  f1-score   support\n",
      "\n",
      "   Class_2_Benign       0.00      0.00      0.00        73\n",
      "Class_4_Malignant       0.49      1.00      0.66        70\n",
      "\n",
      "        micro avg       0.49      0.49      0.49       143\n",
      "        macro avg       0.24      0.50      0.33       143\n",
      "     weighted avg       0.24      0.49      0.32       143\n",
      "\n"
     ]
    },
    {
     "name": "stderr",
     "output_type": "stream",
     "text": [
      "C:\\Users\\PV-R68G\\Anaconda3\\lib\\site-packages\\sklearn\\metrics\\classification.py:1143: UndefinedMetricWarning: Precision and F-score are ill-defined and being set to 0.0 in labels with no predicted samples.\n",
      "  'precision', 'predicted', average, warn_for)\n",
      "C:\\Users\\PV-R68G\\Anaconda3\\lib\\site-packages\\sklearn\\metrics\\classification.py:1143: UndefinedMetricWarning: Precision and F-score are ill-defined and being set to 0.0 in labels with no predicted samples.\n",
      "  'precision', 'predicted', average, warn_for)\n",
      "C:\\Users\\PV-R68G\\Anaconda3\\lib\\site-packages\\sklearn\\metrics\\classification.py:1143: UndefinedMetricWarning: Precision and F-score are ill-defined and being set to 0.0 in labels with no predicted samples.\n",
      "  'precision', 'predicted', average, warn_for)\n"
     ]
    }
   ],
   "source": [
    "#perform classification report of naive bayes model\n",
    "class_names = ['Class_2_Benign', 'Class_4_Malignant']\n",
    "bayes_report = classification_report(test_Y, y_pred_bayes, target_names=class_names)\n",
    "print(bayes_report)"
   ]
  },
  {
   "cell_type": "code",
   "execution_count": 48,
   "metadata": {},
   "outputs": [
    {
     "data": {
      "text/plain": [
       "array([[ 0, 73],\n",
       "       [ 0, 70]], dtype=int64)"
      ]
     },
     "execution_count": 48,
     "metadata": {},
     "output_type": "execute_result"
    }
   ],
   "source": [
    "#create confusion matrix\n",
    "confusion_matrix(test_Y, y_pred_bayes)"
   ]
  },
  {
   "cell_type": "markdown",
   "metadata": {},
   "source": [
    "### The Naive Bayes model does a poor job of predicting accurate class values.  According to the confusion matrix, the naive bayes model predicted just as many positives correctly, as it predicted negatives incorrectly.  This matches the AUC score of .5.  The ROC curve, AUC score, and the confusion matrix, combined tell us that this model was no better than just taking a random guess. \n",
    "### Naive Bayes gave a cross validated score of .5.  One reason for this could be, as we saw earlier, alot of our independent variables were highly correlated with one another.  An assumption of Naive Bayes to work properly is that the predictior variables have to be truly independent of each other.\n",
    "\n",
    "### I will next perform the main tree based algorithm models, such as The Decision Tree, Random Forest, and Gradient Boosting, and give a short analysis after each model."
   ]
  },
  {
   "cell_type": "code",
   "execution_count": 49,
   "metadata": {},
   "outputs": [
    {
     "name": "stdout",
     "output_type": "stream",
     "text": [
      "Accuracy score: 0.9230769230769231\n",
      "\n",
      "Duration: 0:00:00.005002\n",
      "\n",
      "[0.5 0.5 0.5 0.5 0.5]\n",
      "Average cross validated score from our Naive Bayes model is: 0.5\n"
     ]
    }
   ],
   "source": [
    "#Naive Bayes model using PCA\n",
    "\n",
    "# Instantiate our model and store it in a variable\n",
    "bnb_pca = BernoulliNB()\n",
    "\n",
    "#set start time\n",
    "start_time_pca = datetime.datetime.now()\n",
    "\n",
    "# Fit our model to the data.\n",
    "bnb_pca.fit(train_X_pca, train_Y_pca)\n",
    "\n",
    "# Classify, storing the result in a new variable.\n",
    "ypred_bayes_pca = bnb_pca.predict(test_X_pca)\n",
    "\n",
    "#Run accuracy score\n",
    "print('Accuracy score: ' + str(metrics.accuracy_score(test_Y_pca, ypred_bayes_pca)))\n",
    "\n",
    "#calculate end time\n",
    "end_time_pca = datetime.datetime.now()\n",
    "\n",
    "#print the execution run time for our model\n",
    "print('\\nDuration: {}'.format(end_time_pca - start_time_pca))\n",
    "print()\n",
    "\n",
    "#Use cross validation to gauge the accuracy of our model\n",
    "Nbayes_cvs_pca = cross_val_score(bnb_pca, X, Y, cv=5, scoring='accuracy')\n",
    "print(Nbayes_cvs_pca)\n",
    "print('Average cross validated score from our Naive Bayes model is: ' + str(np.mean(Nbayes_cvs_pca)))\n"
   ]
  },
  {
   "cell_type": "markdown",
   "metadata": {},
   "source": [
    "### The Accuracy score of Naive Bayes improved dramatically using PCA, possibly because PCA utilized the main components that explained the majority of the variance in the data, and in the process took out some of the unnecessary correlated columns.  But the average cross validated score was still a disappointing .5"
   ]
  },
  {
   "cell_type": "code",
   "execution_count": 50,
   "metadata": {},
   "outputs": [
    {
     "name": "stdout",
     "output_type": "stream",
     "text": [
      "AUC Score: 0.972\n"
     ]
    },
    {
     "data": {
      "image/png": "[encoded data removed]",
      "text/plain": [
       "<Figure size 432x288 with 1 Axes>"
      ]
     },
     "metadata": {
      "needs_background": "light"
     },
     "output_type": "display_data"
    }
   ],
   "source": [
    "# predict probabilities\n",
    "probs_pca = bnb_pca.predict_proba(test_X_pca)\n",
    "# keep probabilities for the positive outcome only\n",
    "probs_pca = probs_pca[:, 1]\n",
    "# calculate AUC\n",
    "bayes_auc_pca = roc_auc_score(test_Y_pca, probs_pca)\n",
    "print('AUC Score: %.3f' % bayes_auc_pca)\n",
    "# calculate roc curve\n",
    "fpr_pca, tpr_pca, thresholds = roc_curve(test_Y_pca, probs_pca)\n",
    "# plot no skill\n",
    "plt.plot([0, 1], [0, 1], linestyle='--')\n",
    "# plot the roc curve for the model\n",
    "plt.plot(fpr_pca, tpr_pca, marker='.')\n",
    "# show the plot\n",
    "plt.show()"
   ]
  },
  {
   "cell_type": "code",
   "execution_count": 51,
   "metadata": {},
   "outputs": [
    {
     "name": "stdout",
     "output_type": "stream",
     "text": [
      "                   precision    recall  f1-score   support\n",
      "\n",
      "   Class_2_Benign       0.97      0.88      0.92        72\n",
      "Class_4_Malignant       0.88      0.97      0.93        71\n",
      "\n",
      "        micro avg       0.92      0.92      0.92       143\n",
      "        macro avg       0.93      0.92      0.92       143\n",
      "     weighted avg       0.93      0.92      0.92       143\n",
      "\n"
     ]
    }
   ],
   "source": [
    "#perform classification report of naive bayes model after PCA\n",
    "class_names = ['Class_2_Benign', 'Class_4_Malignant']\n",
    "bayes_report_pca = classification_report(test_Y_pca, ypred_bayes_pca, target_names=class_names)\n",
    "print(bayes_report_pca)"
   ]
  },
  {
   "cell_type": "code",
   "execution_count": 52,
   "metadata": {},
   "outputs": [
    {
     "data": {
      "text/plain": [
       "array([[63,  9],\n",
       "       [ 2, 69]], dtype=int64)"
      ]
     },
     "execution_count": 52,
     "metadata": {},
     "output_type": "execute_result"
    }
   ],
   "source": [
    "#create confusion matrix for naive bayes model after pca\n",
    "confusion_matrix(test_Y_pca, ypred_bayes_pca)"
   ]
  },
  {
   "cell_type": "code",
   "execution_count": 53,
   "metadata": {},
   "outputs": [
    {
     "name": "stdout",
     "output_type": "stream",
     "text": [
      "Accuracy score: 0.4965034965034965\n",
      "\n",
      "Duration: 0:00:00.006003\n",
      "\n",
      "[0.5 0.5 0.5 0.5 0.5]\n",
      "Average cross validated score from our Naive Bayes model is: 0.5\n"
     ]
    }
   ],
   "source": [
    "#Naive Bayes model using SelectKbest\n",
    "\n",
    "# Instantiate our model and store it in a variable\n",
    "bnb_skb = BernoulliNB()\n",
    "\n",
    "#set start time\n",
    "start_time_skb = datetime.datetime.now()\n",
    "\n",
    "# Fit our model to the data.\n",
    "bnb_skb.fit(train_X_skb, train_Y_skb)\n",
    "\n",
    "# Classify, storing the result in a new variable.\n",
    "ypred_bayes_skb = bnb_skb.predict(test_X_skb)\n",
    "\n",
    "#Run accuracy score\n",
    "print('Accuracy score: ' + str(metrics.accuracy_score(test_Y_skb, ypred_bayes_skb)))\n",
    "\n",
    "#calculate end time\n",
    "end_time_skb = datetime.datetime.now()\n",
    "\n",
    "#print the execution run time for our model\n",
    "print('\\nDuration: {}'.format(end_time_skb - start_time_skb))\n",
    "print()\n",
    "\n",
    "#Use cross validation to gauge the accuracy of our model\n",
    "Nbayes_cvs_skb = cross_val_score(bnb_skb, X, Y, cv=5, scoring='accuracy')\n",
    "print(Nbayes_cvs_skb)\n",
    "print('Average cross validated score from our Naive Bayes model is: ' + str(np.mean(Nbayes_cvs_skb)))\n"
   ]
  },
  {
   "cell_type": "code",
   "execution_count": 54,
   "metadata": {},
   "outputs": [
    {
     "name": "stdout",
     "output_type": "stream",
     "text": [
      "AUC Score: 0.500\n"
     ]
    },
    {
     "data": {
      "image/png": "[encoded data removed]",
      "text/plain": [
       "<Figure size 432x288 with 1 Axes>"
      ]
     },
     "metadata": {
      "needs_background": "light"
     },
     "output_type": "display_data"
    }
   ],
   "source": [
    "# predict probabilities\n",
    "probs_skb = bnb_skb.predict_proba(test_X_skb)\n",
    "# keep probabilities for the positive outcome only\n",
    "probs_skb = probs_skb[:, 1]\n",
    "# calculate AUC\n",
    "bayes_auc_skb = roc_auc_score(test_Y_skb, probs_skb)\n",
    "print('AUC Score: %.3f' % bayes_auc_skb)\n",
    "# calculate roc curve\n",
    "fpr_skb, tpr_skb, thresholds = roc_curve(test_Y_skb, probs_skb)\n",
    "# plot no skill\n",
    "plt.plot([0, 1], [0, 1], linestyle='--')\n",
    "# plot the roc curve for the model\n",
    "plt.plot(fpr_skb, tpr_skb, marker='.')\n",
    "# show the plot\n",
    "plt.show()"
   ]
  },
  {
   "cell_type": "code",
   "execution_count": 55,
   "metadata": {},
   "outputs": [
    {
     "name": "stdout",
     "output_type": "stream",
     "text": [
      "                   precision    recall  f1-score   support\n",
      "\n",
      "   Class_2_Benign       0.00      0.00      0.00        72\n",
      "Class_4_Malignant       0.50      1.00      0.66        71\n",
      "\n",
      "        micro avg       0.50      0.50      0.50       143\n",
      "        macro avg       0.25      0.50      0.33       143\n",
      "     weighted avg       0.25      0.50      0.33       143\n",
      "\n"
     ]
    },
    {
     "name": "stderr",
     "output_type": "stream",
     "text": [
      "C:\\Users\\PV-R68G\\Anaconda3\\lib\\site-packages\\sklearn\\metrics\\classification.py:1143: UndefinedMetricWarning: Precision and F-score are ill-defined and being set to 0.0 in labels with no predicted samples.\n",
      "  'precision', 'predicted', average, warn_for)\n",
      "C:\\Users\\PV-R68G\\Anaconda3\\lib\\site-packages\\sklearn\\metrics\\classification.py:1143: UndefinedMetricWarning: Precision and F-score are ill-defined and being set to 0.0 in labels with no predicted samples.\n",
      "  'precision', 'predicted', average, warn_for)\n",
      "C:\\Users\\PV-R68G\\Anaconda3\\lib\\site-packages\\sklearn\\metrics\\classification.py:1143: UndefinedMetricWarning: Precision and F-score are ill-defined and being set to 0.0 in labels with no predicted samples.\n",
      "  'precision', 'predicted', average, warn_for)\n"
     ]
    }
   ],
   "source": [
    "#perform classification report of naive bayes model after PCA\n",
    "class_names = ['Class_2_Benign', 'Class_4_Malignant']\n",
    "bayes_report_skb = classification_report(test_Y_skb, ypred_bayes_skb, target_names=class_names)\n",
    "print(bayes_report_skb)"
   ]
  },
  {
   "cell_type": "code",
   "execution_count": 56,
   "metadata": {},
   "outputs": [
    {
     "data": {
      "text/plain": [
       "array([[ 0, 72],\n",
       "       [ 0, 71]], dtype=int64)"
      ]
     },
     "execution_count": 56,
     "metadata": {},
     "output_type": "execute_result"
    }
   ],
   "source": [
    "#create confusion matrix for naive bayes model after selectKbest\n",
    "confusion_matrix(test_Y_skb, ypred_bayes_skb)"
   ]
  },
  {
   "cell_type": "markdown",
   "metadata": {},
   "source": [
    "# Decision Tree"
   ]
  },
  {
   "cell_type": "code",
   "execution_count": 57,
   "metadata": {},
   "outputs": [
    {
     "name": "stdout",
     "output_type": "stream",
     "text": [
      "Best parameters for decision tree: {'criterion': 'gini', 'max_depth': 4, 'max_features': 4, 'min_samples_split': 5}\n"
     ]
    },
    {
     "name": "stderr",
     "output_type": "stream",
     "text": [
      "C:\\Users\\PV-R68G\\Anaconda3\\lib\\site-packages\\sklearn\\model_selection\\_search.py:841: DeprecationWarning: The default of the `iid` parameter will change from True to False in version 0.22 and will be removed in 0.24. This will change numeric results when test-set sizes are unequal.\n",
      "  DeprecationWarning)\n"
     ]
    }
   ],
   "source": [
    "# perform grid search to find the optimal parameters for our decision tree model, using the full dataset.\n",
    "dtree = tree.DecisionTreeClassifier(random_state=2)\n",
    "tree_param_grid = {'max_depth':[2,4,6], 'min_samples_split':[2,5,8], 'max_features':[2,4,6], 'criterion':['entropy', 'gini']}\n",
    "dtree_grid = GridSearchCV(dtree, tree_param_grid, cv=5)\n",
    "dtree_grid.fit(train_X, train_Y)\n",
    "print('Best parameters for decision tree:', dtree_grid.best_params_)"
   ]
  },
  {
   "cell_type": "code",
   "execution_count": 61,
   "metadata": {},
   "outputs": [
    {
     "name": "stdout",
     "output_type": "stream",
     "text": [
      "Accuracy score for decision tree Model: 0.9370629370629371\n",
      "\n",
      "Duration: 0:00:00.006004\n",
      "\n",
      "[0.92708333 0.94791667 0.96875    0.92553191 0.96808511]\n",
      "Average cross validated score from our decision tree model is: 0.9474734042553191\n"
     ]
    }
   ],
   "source": [
    "# Initialize and train our tree on the full dataset.\n",
    "decision_tree = tree.DecisionTreeClassifier(\n",
    "    criterion='gini',\n",
    "    max_features=4,\n",
    "    max_depth=4,\n",
    "    min_samples_split=5,\n",
    "    random_state = 2\n",
    ")\n",
    "\n",
    "#set start time\n",
    "start_time_tree = datetime.datetime.now()\n",
    "\n",
    "#train our tree\n",
    "decision_tree.fit(train_X, train_Y)\n",
    "\n",
    "# Classify, storing the result in a new variable.\n",
    "y_pred_dtree = decision_tree.predict(test_X)\n",
    "\n",
    "#get accuracy score from our model\n",
    "print('Accuracy score for decision tree Model: ' + str(metrics.accuracy_score(test_Y, y_pred_dtree)))\n",
    "\n",
    "#calculate end time\n",
    "end_time_tree = datetime.datetime.now()\n",
    "\n",
    "#print the execution run time for our model\n",
    "print('\\nDuration: {}'.format(end_time_tree - start_time_tree))\n",
    "print()\n",
    "\n",
    "#get accuracy score of decision tree\n",
    "tree_score = cross_val_score(decision_tree, X, Y, cv=5, scoring='accuracy')\n",
    "print(tree_score)\n",
    "print('Average cross validated score from our decision tree model is: ' + str(np.mean(tree_score)))"
   ]
  },
  {
   "cell_type": "code",
   "execution_count": 62,
   "metadata": {},
   "outputs": [
    {
     "name": "stdout",
     "output_type": "stream",
     "text": [
      "AUC Score: 0.954\n"
     ]
    },
    {
     "data": {
      "image/png": "[encoded data removed]",
      "text/plain": [
       "<Figure size 432x288 with 1 Axes>"
      ]
     },
     "metadata": {
      "needs_background": "light"
     },
     "output_type": "display_data"
    }
   ],
   "source": [
    "#Get AUC and create ROC for decision tree with full data\n",
    "# predict probabilities\n",
    "probs_dtree = decision_tree.predict_proba(test_X)\n",
    "# keep probabilities for the positive outcome only\n",
    "probs_dtree = probs_dtree[:, 1]\n",
    "# calculate AUC\n",
    "dtree_auc = roc_auc_score(test_Y, probs_dtree)\n",
    "print('AUC Score: %.3f' % dtree_auc)\n",
    "# calculate roc curve\n",
    "fpr_dtree, tpr_dtree, thresholds_dtree = roc_curve(test_Y, probs_dtree)\n",
    "# plot no skill\n",
    "plt.plot([0, 1], [0, 1], linestyle='--')\n",
    "# plot the roc curve for the model\n",
    "plt.plot(fpr_dtree, tpr_dtree, marker='.')\n",
    "# show the plot\n",
    "plt.show()"
   ]
  },
  {
   "cell_type": "code",
   "execution_count": 63,
   "metadata": {},
   "outputs": [
    {
     "name": "stdout",
     "output_type": "stream",
     "text": [
      "                   precision    recall  f1-score   support\n",
      "\n",
      "   Class_2_Benign       0.94      0.93      0.94        73\n",
      "Class_4_Malignant       0.93      0.94      0.94        70\n",
      "\n",
      "        micro avg       0.94      0.94      0.94       143\n",
      "        macro avg       0.94      0.94      0.94       143\n",
      "     weighted avg       0.94      0.94      0.94       143\n",
      "\n"
     ]
    }
   ],
   "source": [
    "#perform classification report of naive bayes model after PCA\n",
    "class_names = ['Class_2_Benign', 'Class_4_Malignant']\n",
    "tree_report = classification_report(test_Y, y_pred_dtree, target_names=class_names)\n",
    "print(tree_report)"
   ]
  },
  {
   "cell_type": "code",
   "execution_count": 64,
   "metadata": {},
   "outputs": [
    {
     "data": {
      "text/plain": [
       "array([[68,  5],\n",
       "       [ 4, 66]], dtype=int64)"
      ]
     },
     "execution_count": 64,
     "metadata": {},
     "output_type": "execute_result"
    }
   ],
   "source": [
    "#create confusion matrix for naive bayes model after selectKbest\n",
    "confusion_matrix(test_Y, y_pred_dtree)"
   ]
  },
  {
   "cell_type": "code",
   "execution_count": 65,
   "metadata": {},
   "outputs": [
    {
     "name": "stdout",
     "output_type": "stream",
     "text": [
      "Best parameters for decision tree: {'criterion': 'entropy', 'max_depth': 2, 'max_features': 2, 'min_samples_split': 2}\n"
     ]
    }
   ],
   "source": [
    "#GridsearchCV with PCA\n",
    "dtree_pca = tree.DecisionTreeClassifier(random_state=4)\n",
    "tree_param_grid_pca = {'max_depth':[2,4,6,8], 'min_samples_split':[2,5,8,10], 'max_features':[2,4,6], \n",
    "                       'criterion':['entropy', 'gini']}\n",
    "dtree_grid_pca = GridSearchCV(dtree_pca, tree_param_grid_pca, cv=5)\n",
    "dtree_grid_pca.fit(train_X_pca, train_Y_pca)\n",
    "print('Best parameters for decision tree:', dtree_grid_pca.best_params_)"
   ]
  },
  {
   "cell_type": "code",
   "execution_count": 66,
   "metadata": {},
   "outputs": [
    {
     "name": "stdout",
     "output_type": "stream",
     "text": [
      "Accuracy score for decision tree Model after using PCA: 0.972027972027972\n",
      "\n",
      "Duration: 0:00:00.004002\n",
      "\n",
      "[0.91666667 0.92708333 0.92708333 0.94680851 0.96808511]\n",
      "Average cross validated score from our decision tree model is: 0.937145390070922\n"
     ]
    }
   ],
   "source": [
    "# Initialize and train the tree using PCA.\n",
    "decision_tree_pca = tree.DecisionTreeClassifier(\n",
    "    criterion='entropy',\n",
    "    max_features=2,\n",
    "    max_depth=2,\n",
    "    min_samples_split=2,\n",
    "    random_state = 4\n",
    ")\n",
    "\n",
    "#set start time\n",
    "start_time_treePca = datetime.datetime.now()\n",
    "\n",
    "#train our tree\n",
    "decision_tree_pca.fit(train_X_pca, train_Y_pca)\n",
    "\n",
    "# Classify, storing the result in a new variable.\n",
    "ypred_dtree_pca = decision_tree_pca.predict(test_X_pca)\n",
    "\n",
    "#get accuracy score from our model\n",
    "print('Accuracy score for decision tree Model after using PCA: ' + str(metrics.accuracy_score(test_Y_pca, ypred_dtree_pca)))\n",
    "\n",
    "#calculate end time\n",
    "end_time_treePca = datetime.datetime.now()\n",
    "\n",
    "#print the execution run time for our model\n",
    "print('\\nDuration: {}'.format(end_time_treePca - start_time_treePca))\n",
    "print()\n",
    "\n",
    "#get accuracy score of decision tree\n",
    "tree_score_pca = cross_val_score(decision_tree_pca, X, Y, cv=5, scoring='accuracy')\n",
    "print(tree_score_pca)\n",
    "print('Average cross validated score from our decision tree model is: ' + str(np.mean(tree_score_pca)))"
   ]
  },
  {
   "cell_type": "code",
   "execution_count": 67,
   "metadata": {},
   "outputs": [
    {
     "name": "stdout",
     "output_type": "stream",
     "text": [
      "AUC Score: 0.972\n"
     ]
    },
    {
     "data": {
      "image/png": "[encoded data removed]",
      "text/plain": [
       "<Figure size 432x288 with 1 Axes>"
      ]
     },
     "metadata": {
      "needs_background": "light"
     },
     "output_type": "display_data"
    }
   ],
   "source": [
    "#Get AUC and create ROC for decision tree with PCA\n",
    "# predict probabilities\n",
    "probs_dtree_pca = decision_tree_pca.predict_proba(test_X_pca)\n",
    "# keep probabilities for the positive outcome only\n",
    "probs_dtree_pca = probs_dtree_pca[:, 1]\n",
    "# calculate AUC\n",
    "dtree_auc_pca = roc_auc_score(test_Y_pca, probs_dtree_pca)\n",
    "print('AUC Score: %.3f' % dtree_auc_pca)\n",
    "# calculate roc curve\n",
    "fpr_dtree_pca, tpr_dtree_pca, thresholds_dtree_pca = roc_curve(test_Y_pca, probs_dtree_pca)\n",
    "# plot no skill\n",
    "plt.plot([0, 1], [0, 1], linestyle='--')\n",
    "# plot the roc curve for the model\n",
    "plt.plot(fpr_dtree_pca, tpr_dtree_pca, marker='.')\n",
    "# show the plot\n",
    "plt.show()"
   ]
  },
  {
   "cell_type": "code",
   "execution_count": 68,
   "metadata": {},
   "outputs": [
    {
     "name": "stdout",
     "output_type": "stream",
     "text": [
      "                   precision    recall  f1-score   support\n",
      "\n",
      "   Class_2_Benign       0.99      0.96      0.97        72\n",
      "Class_4_Malignant       0.96      0.99      0.97        71\n",
      "\n",
      "        micro avg       0.97      0.97      0.97       143\n",
      "        macro avg       0.97      0.97      0.97       143\n",
      "     weighted avg       0.97      0.97      0.97       143\n",
      "\n"
     ]
    }
   ],
   "source": [
    "#perform classification report of naive bayes model after PCA\n",
    "class_names = ['Class_2_Benign', 'Class_4_Malignant']\n",
    "tree_report_pca = classification_report(test_Y_pca, ypred_dtree_pca, target_names=class_names)\n",
    "print(tree_report_pca)"
   ]
  },
  {
   "cell_type": "code",
   "execution_count": 69,
   "metadata": {},
   "outputs": [
    {
     "data": {
      "text/plain": [
       "array([[69,  3],\n",
       "       [ 1, 70]], dtype=int64)"
      ]
     },
     "execution_count": 69,
     "metadata": {},
     "output_type": "execute_result"
    }
   ],
   "source": [
    "#create confusion matrix for naive bayes model after PCA\n",
    "confusion_matrix(test_Y_pca, ypred_dtree_pca)"
   ]
  },
  {
   "cell_type": "code",
   "execution_count": 70,
   "metadata": {},
   "outputs": [
    {
     "name": "stdout",
     "output_type": "stream",
     "text": [
      "Best parameters for decision tree: {'criterion': 'gini', 'max_depth': 6, 'max_features': 2, 'min_samples_split': 8}\n"
     ]
    },
    {
     "name": "stderr",
     "output_type": "stream",
     "text": [
      "C:\\Users\\PV-R68G\\Anaconda3\\lib\\site-packages\\sklearn\\model_selection\\_search.py:841: DeprecationWarning: The default of the `iid` parameter will change from True to False in version 0.22 and will be removed in 0.24. This will change numeric results when test-set sizes are unequal.\n",
      "  DeprecationWarning)\n"
     ]
    }
   ],
   "source": [
    "#GridsearchCV with selectkbest\n",
    "\n",
    "dtree_skb = tree.DecisionTreeClassifier(random_state=6)\n",
    "tree_param_grid_skb = {'max_depth':[2,4,6,8], 'min_samples_split':[2,5,8,10], 'max_features':[2,4,6], \n",
    "                       'criterion':['entropy', 'gini']}\n",
    "dtree_grid_skb = GridSearchCV(dtree_skb, tree_param_grid_skb, cv=5)\n",
    "dtree_grid_skb.fit(train_X_skb, train_Y_skb)\n",
    "print('Best parameters for decision tree:', dtree_grid_skb.best_params_)"
   ]
  },
  {
   "cell_type": "code",
   "execution_count": 71,
   "metadata": {},
   "outputs": [
    {
     "name": "stdout",
     "output_type": "stream",
     "text": [
      "Accuracy score for decision tree Model with SelectKBest: 0.4755244755244755\n",
      "\n",
      "Duration: 0:00:00.005002\n",
      "\n",
      "[0.89583333 0.96875    0.95833333 0.92553191 0.96808511]\n",
      "Average cross validated score from our decision tree model is: 0.9433067375886527\n"
     ]
    }
   ],
   "source": [
    "# Initialize and train the tree using SelectKBest.\n",
    "decision_tree_skb = tree.DecisionTreeClassifier(\n",
    "    criterion='gini',\n",
    "    max_features=2,\n",
    "    max_depth=6,\n",
    "    min_samples_split=8,\n",
    "    random_state = 6\n",
    ")\n",
    "\n",
    "#set start time\n",
    "start_time_treeSkb = datetime.datetime.now()\n",
    "\n",
    "#train our tree\n",
    "decision_tree_skb.fit(train_X_skb, train_Y_skb)\n",
    "\n",
    "# Classify, storing the result in a new variable.\n",
    "ypred_dtree_skb = decision_tree_skb.predict(test_X_skb)\n",
    "\n",
    "#get accuracy score from our model\n",
    "print('Accuracy score for decision tree Model with SelectKBest: ' + str(metrics.accuracy_score(test_Y, ypred_dtree_skb)))\n",
    "\n",
    "#calculate end time\n",
    "end_time_treeSkb = datetime.datetime.now()\n",
    "\n",
    "#print the execution run time for our model\n",
    "print('\\nDuration: {}'.format(end_time_treeSkb - start_time_treeSkb))\n",
    "print()\n",
    "\n",
    "#get accuracy score of decision tree\n",
    "tree_score_skb = cross_val_score(decision_tree_skb, X, Y, cv=5, scoring='accuracy')\n",
    "print(tree_score_skb)\n",
    "print('Average cross validated score from our decision tree model is: ' + str(np.mean(tree_score_skb)))"
   ]
  },
  {
   "cell_type": "code",
   "execution_count": 72,
   "metadata": {},
   "outputs": [
    {
     "name": "stdout",
     "output_type": "stream",
     "text": [
      "AUC Score: 0.967\n"
     ]
    },
    {
     "data": {
      "image/png": "[encoded data removed]",
      "text/plain": [
       "<Figure size 432x288 with 1 Axes>"
      ]
     },
     "metadata": {
      "needs_background": "light"
     },
     "output_type": "display_data"
    },
    {
     "name": "stdout",
     "output_type": "stream",
     "text": [
      "                   precision    recall  f1-score   support\n",
      "\n",
      "   Class_2_Benign       0.99      0.93      0.96        72\n",
      "Class_4_Malignant       0.93      0.99      0.96        71\n",
      "\n",
      "        micro avg       0.96      0.96      0.96       143\n",
      "        macro avg       0.96      0.96      0.96       143\n",
      "     weighted avg       0.96      0.96      0.96       143\n",
      "\n",
      "Confusion Matrix:\n"
     ]
    },
    {
     "data": {
      "text/plain": [
       "array([[67,  5],\n",
       "       [ 1, 70]], dtype=int64)"
      ]
     },
     "execution_count": 72,
     "metadata": {},
     "output_type": "execute_result"
    }
   ],
   "source": [
    "#Get AUC and create ROC for decision tree with SelectKBest\n",
    "# predict probabilities\n",
    "probs_dtree_skb = decision_tree_skb.predict_proba(test_X_skb)\n",
    "# keep probabilities for the positive outcome only\n",
    "probs_dtree_skb = probs_dtree_skb[:, 1]\n",
    "# calculate AUC\n",
    "dtree_auc_skb = roc_auc_score(test_Y_skb, probs_dtree_skb)\n",
    "print('AUC Score: %.3f' % dtree_auc_skb)\n",
    "# calculate roc curve\n",
    "fpr_dtree_skb, tpr_dtree_skb, thresholds_dtree_skb = roc_curve(test_Y_skb, probs_dtree_skb)\n",
    "# plot no skill\n",
    "plt.plot([0, 1], [0, 1], linestyle='--')\n",
    "# plot the roc curve for the model\n",
    "plt.plot(fpr_dtree_skb, tpr_dtree_skb, marker='.')\n",
    "# show the plot\n",
    "plt.show()\n",
    "\n",
    "#perform classification report of naive bayes model after PCA\n",
    "class_names = ['Class_2_Benign', 'Class_4_Malignant']\n",
    "tree_report_skb = classification_report(test_Y_skb, ypred_dtree_skb, target_names=class_names)\n",
    "print(tree_report_skb)\n",
    "\n",
    "#create confusion matrix for naive bayes model after selectKbest\n",
    "print('Confusion Matrix:')\n",
    "confusion_matrix(test_Y_skb, ypred_dtree_skb)\n"
   ]
  },
  {
   "cell_type": "markdown",
   "metadata": {},
   "source": [
    "### The Decision Tree model performed alot better than the the Naive Bayes Model.  The cross validated scores for the three types of decision tree models that we built (using full data, using PCA, and using SelectKBest)  all were in the range of 93-95%.  This could be due to the fact that the decision tree model, along with the other tree based algorithms such as random forest and gradient boosting, work well with independent variables that have a dependence with, or are correlated with, each other.\n",
    "\n",
    "### Tree based algorithms also work well with data in which the predictor (independent) variables don't have a linear relationship with the output (dependent) variables; as is the case with our dataset here."
   ]
  },
  {
   "cell_type": "markdown",
   "metadata": {},
   "source": [
    "# Random Forest"
   ]
  },
  {
   "cell_type": "code",
   "execution_count": 73,
   "metadata": {},
   "outputs": [
    {
     "name": "stdout",
     "output_type": "stream",
     "text": [
      "Best parameters for decision tree: {'criterion': 'entropy', 'max_depth': 4, 'max_features': 2, 'min_samples_split': 5, 'n_estimators': 50}\n"
     ]
    },
    {
     "name": "stderr",
     "output_type": "stream",
     "text": [
      "C:\\Users\\PV-R68G\\Anaconda3\\lib\\site-packages\\sklearn\\model_selection\\_search.py:841: DeprecationWarning: The default of the `iid` parameter will change from True to False in version 0.22 and will be removed in 0.24. This will change numeric results when test-set sizes are unequal.\n",
      "  DeprecationWarning)\n"
     ]
    }
   ],
   "source": [
    "# perform grid search to find the optimal parameters for our random forest model, using the full dataset.\n",
    "rforest = ensemble.RandomForestClassifier(random_state=20)\n",
    "forest_param_grid = {'n_estimators':[10,20,50,100], 'max_depth':[2,4,6,8], 'min_samples_split':[2,5,8,10], \n",
    "                     'max_features':[2,4,6,7], 'criterion':['entropy', 'gini']}\n",
    "rforest_grid = GridSearchCV(rforest, forest_param_grid, cv=5)\n",
    "rforest_grid.fit(train_X, train_Y)\n",
    "print('Best parameters for decision tree:', rforest_grid.best_params_)"
   ]
  },
  {
   "cell_type": "code",
   "execution_count": 74,
   "metadata": {},
   "outputs": [
    {
     "name": "stdout",
     "output_type": "stream",
     "text": [
      "Accuracy score for Random Forest Model: 0.965034965034965\n",
      "\n",
      "Duration: 0:00:00.099065\n",
      "\n",
      "[1.         0.96875    0.97916667 0.94680851 1.        ]\n",
      "Average cross validated score from our Random Forest Model is: 0.978945035460993\n"
     ]
    }
   ],
   "source": [
    "#initialize and train our random forest model with full data.\n",
    "rand_forest = ensemble.RandomForestClassifier(n_estimators=50, criterion='entropy', max_depth=4, max_features=2,\n",
    "                                              min_samples_split=5, random_state=20)\n",
    "\n",
    "#set start time\n",
    "start_time_rforest = datetime.datetime.now()\n",
    "\n",
    "rand_forest.fit(train_X, train_Y)\n",
    "\n",
    "# Classify, storing the result in a new variable.\n",
    "y_pred_rforest = rand_forest.predict(test_X)\n",
    "\n",
    "#get accuracy score from our model\n",
    "print('Accuracy score for Random Forest Model: ' + str(metrics.accuracy_score(test_Y, y_pred_rforest)))\n",
    "\n",
    "#calculate end time\n",
    "end_time_rforest = datetime.datetime.now()\n",
    "\n",
    "#print the execution run time for our model\n",
    "print('\\nDuration: {}'.format(end_time_rforest - start_time_rforest))\n",
    "print()\n",
    "\n",
    "#get average accuracy score of our random forest through cross validation\n",
    "rforest_cvs = cross_val_score(rand_forest, X, Y, cv=5, scoring='accuracy')\n",
    "print(rforest_cvs)\n",
    "print('Average cross validated score from our Random Forest Model is: ' + str(np.mean(rforest_cvs)))"
   ]
  },
  {
   "cell_type": "code",
   "execution_count": 75,
   "metadata": {},
   "outputs": [
    {
     "name": "stdout",
     "output_type": "stream",
     "text": [
      "AUC Score: 0.990\n"
     ]
    },
    {
     "data": {
      "image/png": "[encoded data removed]",
      "text/plain": [
       "<Figure size 432x288 with 1 Axes>"
      ]
     },
     "metadata": {
      "needs_background": "light"
     },
     "output_type": "display_data"
    },
    {
     "name": "stdout",
     "output_type": "stream",
     "text": [
      "                   precision    recall  f1-score   support\n",
      "\n",
      "   Class_2_Benign       0.97      0.96      0.97        73\n",
      "Class_4_Malignant       0.96      0.97      0.96        70\n",
      "\n",
      "        micro avg       0.97      0.97      0.97       143\n",
      "        macro avg       0.96      0.97      0.97       143\n",
      "     weighted avg       0.97      0.97      0.97       143\n",
      "\n",
      "Confusion Matrix:\n"
     ]
    },
    {
     "data": {
      "text/plain": [
       "array([[70,  3],\n",
       "       [ 2, 68]], dtype=int64)"
      ]
     },
     "execution_count": 75,
     "metadata": {},
     "output_type": "execute_result"
    }
   ],
   "source": [
    "#Get AUC and create ROC for decision tree with full data\n",
    "# predict probabilities\n",
    "probs_rforest = rand_forest.predict_proba(test_X)\n",
    "# keep probabilities for the positive outcome only\n",
    "probs_rforest = probs_rforest[:, 1]\n",
    "# calculate AUC\n",
    "rforest_auc = roc_auc_score(test_Y, probs_rforest)\n",
    "print('AUC Score: %.3f' % rforest_auc)\n",
    "# calculate roc curve\n",
    "fpr_rforest, tpr_rforest, thresholds_rforest = roc_curve(test_Y, probs_rforest)\n",
    "# plot no skill\n",
    "plt.plot([0, 1], [0, 1], linestyle='--')\n",
    "# plot the roc curve for the model\n",
    "plt.plot(fpr_rforest, tpr_rforest, marker='.')\n",
    "# show the plot\n",
    "plt.show()\n",
    "\n",
    "#perform classification report of naive bayes model after PCA\n",
    "class_names = ['Class_2_Benign', 'Class_4_Malignant']\n",
    "rforest_report = classification_report(test_Y, y_pred_rforest, target_names=class_names)\n",
    "print(rforest_report)\n",
    "\n",
    "#create confusion matrix for naive bayes model after selectKbest\n",
    "print('Confusion Matrix:')\n",
    "confusion_matrix(test_Y, y_pred_rforest)"
   ]
  },
  {
   "cell_type": "code",
   "execution_count": 76,
   "metadata": {},
   "outputs": [
    {
     "name": "stdout",
     "output_type": "stream",
     "text": [
      "Best parameters for decision tree: {'criterion': 'entropy', 'max_depth': 2, 'max_features': 2, 'min_samples_split': 2, 'n_estimators': 20}\n"
     ]
    }
   ],
   "source": [
    "#using gridsearchcv with our random forest model and PCA\n",
    "# perform grid search to find the optimal parameters for our random forest model, using the full dataset.\n",
    "rforest_pca = ensemble.RandomForestClassifier(random_state=20)\n",
    "forest_param_grid_pca = {'n_estimators':[10,20,50,100], 'max_depth':[2,4,6,8], 'min_samples_split':[2,5,8,10], \n",
    "                     'max_features':[2,4,6,7], 'criterion':['entropy', 'gini']}\n",
    "rforest_grid_pca = GridSearchCV(rforest_pca, forest_param_grid_pca, cv=5)\n",
    "rforest_grid_pca.fit(train_X_pca, train_Y_pca)\n",
    "print('Best parameters for decision tree:', rforest_grid_pca.best_params_)"
   ]
  },
  {
   "cell_type": "code",
   "execution_count": 77,
   "metadata": {},
   "outputs": [
    {
     "name": "stdout",
     "output_type": "stream",
     "text": [
      "Accuracy score for Random Forest Model using PCA is: 0.972027972027972\n",
      "\n",
      "Duration: 0:00:00.025017\n",
      "\n",
      "[0.97916667 0.95833333 1.         0.93617021 0.9893617 ]\n",
      "Average cross validated score from our Random Forest Model using PCA is: 0.9726063829787235\n"
     ]
    }
   ],
   "source": [
    "#initialize and train our random forest model with pca\n",
    "rand_forest_pca = ensemble.RandomForestClassifier(n_estimators=10, criterion='entropy', max_depth=2, max_features=2,\n",
    "                                              min_samples_split=2, random_state=20)\n",
    "\n",
    "#set start time\n",
    "start_time_rforest_pca = datetime.datetime.now()\n",
    "\n",
    "rand_forest_pca.fit(train_X_pca, train_Y_pca)\n",
    "\n",
    "# Classify, storing the result in a new variable.\n",
    "ypred_rforest_pca = rand_forest_pca.predict(test_X_pca)\n",
    "\n",
    "#get accuracy score from our model\n",
    "print('Accuracy score for Random Forest Model using PCA is: ' + str(metrics.accuracy_score(test_Y_pca, ypred_rforest_pca)))\n",
    "\n",
    "#calculate end time\n",
    "end_time_rforest_pca = datetime.datetime.now()\n",
    "\n",
    "#print the execution run time for our model\n",
    "print('\\nDuration: {}'.format(end_time_rforest_pca - start_time_rforest_pca))\n",
    "print()\n",
    "\n",
    "#get average accuracy score of our random forest through cross validation\n",
    "rforest_cvs_pca = cross_val_score(rand_forest_pca, X, Y, cv=5, scoring='accuracy')\n",
    "print(rforest_cvs_pca)\n",
    "print('Average cross validated score from our Random Forest Model using PCA is: ' + str(np.mean(rforest_cvs_pca)))"
   ]
  },
  {
   "cell_type": "code",
   "execution_count": 78,
   "metadata": {},
   "outputs": [
    {
     "name": "stdout",
     "output_type": "stream",
     "text": [
      "AUC Score: 0.982\n"
     ]
    },
    {
     "data": {
      "image/png": "[encoded data removed]",
      "text/plain": [
       "<Figure size 432x288 with 1 Axes>"
      ]
     },
     "metadata": {
      "needs_background": "light"
     },
     "output_type": "display_data"
    },
    {
     "name": "stdout",
     "output_type": "stream",
     "text": [
      "                   precision    recall  f1-score   support\n",
      "\n",
      "   Class_2_Benign       0.99      0.96      0.97        72\n",
      "Class_4_Malignant       0.96      0.99      0.97        71\n",
      "\n",
      "        micro avg       0.97      0.97      0.97       143\n",
      "        macro avg       0.97      0.97      0.97       143\n",
      "     weighted avg       0.97      0.97      0.97       143\n",
      "\n",
      "Confusion Matrix:\n"
     ]
    },
    {
     "data": {
      "text/plain": [
       "array([[69,  3],\n",
       "       [ 1, 70]], dtype=int64)"
      ]
     },
     "execution_count": 78,
     "metadata": {},
     "output_type": "execute_result"
    }
   ],
   "source": [
    "#Get AUC and create ROC for random forest with PCA\n",
    "# predict probabilities\n",
    "probs_rforest_pca = rand_forest_pca.predict_proba(test_X_pca)\n",
    "# keep probabilities for the positive outcome only\n",
    "probs_rforest_pca = probs_rforest_pca[:, 1]\n",
    "# calculate AUC\n",
    "rforest_auc_pca = roc_auc_score(test_Y_pca, probs_rforest_pca)\n",
    "print('AUC Score: %.3f' % rforest_auc_pca)\n",
    "# calculate roc curve\n",
    "fpr_rforest_pca, tpr_rforest_pca, thresholds_rforest_pca = roc_curve(test_Y_pca, probs_rforest_pca)\n",
    "# plot no skill\n",
    "plt.plot([0, 1], [0, 1], linestyle='--')\n",
    "# plot the roc curve for the model\n",
    "plt.plot(fpr_rforest_pca, tpr_rforest_pca, marker='.')\n",
    "# show the plot\n",
    "plt.show()\n",
    "\n",
    "#perform classification report of naive bayes model after PCA\n",
    "class_names = ['Class_2_Benign', 'Class_4_Malignant']\n",
    "rforest_report_pca = classification_report(test_Y_pca, ypred_rforest_pca, target_names=class_names)\n",
    "print(rforest_report_pca)\n",
    "\n",
    "#create confusion matrix for naive bayes model after selectKbest\n",
    "print('Confusion Matrix:')\n",
    "confusion_matrix(test_Y_pca, ypred_rforest_pca)"
   ]
  },
  {
   "cell_type": "code",
   "execution_count": 79,
   "metadata": {},
   "outputs": [
    {
     "name": "stdout",
     "output_type": "stream",
     "text": [
      "Best parameters for decision tree: {'criterion': 'entropy', 'max_depth': 4, 'max_features': 2, 'min_samples_split': 2, 'n_estimators': 10}\n"
     ]
    },
    {
     "name": "stderr",
     "output_type": "stream",
     "text": [
      "C:\\Users\\PV-R68G\\Anaconda3\\lib\\site-packages\\sklearn\\model_selection\\_search.py:841: DeprecationWarning: The default of the `iid` parameter will change from True to False in version 0.22 and will be removed in 0.24. This will change numeric results when test-set sizes are unequal.\n",
      "  DeprecationWarning)\n"
     ]
    }
   ],
   "source": [
    "#using gridsearchcv with our random forest model and selectKbest\n",
    "rforest_skb = ensemble.RandomForestClassifier(random_state=57)\n",
    "forest_param_grid_skb = {'n_estimators':[10,20,50,100], 'max_depth':[2,4,6,8], 'min_samples_split':[2,5,8,10], \n",
    "                     'max_features':[2,4,6], 'criterion':['entropy', 'gini']}\n",
    "rforest_grid_skb = GridSearchCV(rforest_skb, forest_param_grid_skb, cv=5)\n",
    "rforest_grid_skb.fit(train_X_skb, train_Y_skb)\n",
    "print('Best parameters for decision tree:', rforest_grid_skb.best_params_)"
   ]
  },
  {
   "cell_type": "code",
   "execution_count": 80,
   "metadata": {},
   "outputs": [
    {
     "name": "stdout",
     "output_type": "stream",
     "text": [
      "Accuracy score for Random Forest Model using SelectKBest is: 0.972027972027972\n",
      "\n",
      "Duration: 0:00:00.041027\n",
      "\n",
      "[0.97916667 0.96875    1.         0.95744681 1.        ]\n",
      "Average cross validated score from our Random Forest Model using SelectKBest is: 0.981072695035461\n"
     ]
    }
   ],
   "source": [
    "#initialize and train our random forest model with selectkbest\n",
    "rand_forest_skb = ensemble.RandomForestClassifier(n_estimators=20, criterion='entropy', max_depth=4, max_features=2,\n",
    "                                              min_samples_split=2, random_state=57)\n",
    "\n",
    "#set start time\n",
    "start_time_rforest_skb = datetime.datetime.now()\n",
    "\n",
    "rand_forest_skb.fit(train_X_skb, train_Y_skb)\n",
    "\n",
    "# Classify, storing the result in a new variable.\n",
    "ypred_rforest_skb = rand_forest_skb.predict(test_X_skb)\n",
    "\n",
    "#get accuracy score from our model\n",
    "print('Accuracy score for Random Forest Model using SelectKBest is: ' + str(metrics.accuracy_score(test_Y_pca, ypred_rforest_skb)))\n",
    "\n",
    "#calculate end time\n",
    "end_time_rforest_skb = datetime.datetime.now()\n",
    "\n",
    "#print the execution run time for our model\n",
    "print('\\nDuration: {}'.format(end_time_rforest_skb - start_time_rforest_skb))\n",
    "print()\n",
    "\n",
    "#get average accuracy score of our random forest through cross validation\n",
    "rforest_cvs_skb = cross_val_score(rand_forest_skb, X, Y, cv=5, scoring='accuracy')\n",
    "print(rforest_cvs_skb)\n",
    "print('Average cross validated score from our Random Forest Model using SelectKBest is: ' + str(np.mean(rforest_cvs_skb)))"
   ]
  },
  {
   "cell_type": "code",
   "execution_count": 81,
   "metadata": {},
   "outputs": [
    {
     "name": "stdout",
     "output_type": "stream",
     "text": [
      "AUC Score: 0.979\n"
     ]
    },
    {
     "data": {
      "image/png": "[encoded data removed]",
      "text/plain": [
       "<Figure size 432x288 with 1 Axes>"
      ]
     },
     "metadata": {
      "needs_background": "light"
     },
     "output_type": "display_data"
    },
    {
     "name": "stdout",
     "output_type": "stream",
     "text": [
      "                   precision    recall  f1-score   support\n",
      "\n",
      "   Class_2_Benign       0.99      0.96      0.97        72\n",
      "Class_4_Malignant       0.96      0.99      0.97        71\n",
      "\n",
      "        micro avg       0.97      0.97      0.97       143\n",
      "        macro avg       0.97      0.97      0.97       143\n",
      "     weighted avg       0.97      0.97      0.97       143\n",
      "\n",
      "Confusion Matrix:\n"
     ]
    },
    {
     "data": {
      "text/plain": [
       "array([[69,  3],\n",
       "       [ 1, 70]], dtype=int64)"
      ]
     },
     "execution_count": 81,
     "metadata": {},
     "output_type": "execute_result"
    }
   ],
   "source": [
    "#Get AUC and create ROC for random forest with SelectKBest\n",
    "# predict probabilities\n",
    "probs_rforest_skb = rand_forest_skb.predict_proba(test_X_skb)\n",
    "# keep probabilities for the positive outcome only\n",
    "probs_rforest_skb = probs_rforest_skb[:, 1]\n",
    "# calculate AUC\n",
    "rforest_auc_skb = roc_auc_score(test_Y_skb, probs_rforest_skb)\n",
    "print('AUC Score: %.3f' % rforest_auc_skb)\n",
    "# calculate roc curve\n",
    "fpr_rforest_skb, tpr_rforest_skb, thresholds_rforest_skb = roc_curve(test_Y_skb, probs_rforest_skb)\n",
    "# plot no skill\n",
    "plt.plot([0, 1], [0, 1], linestyle='--')\n",
    "# plot the roc curve for the model\n",
    "plt.plot(fpr_rforest_skb, tpr_rforest_skb, marker='.')\n",
    "# show the plot\n",
    "plt.show()\n",
    "\n",
    "#perform classification report of naive bayes model after PCA\n",
    "class_names = ['Class_2_Benign', 'Class_4_Malignant']\n",
    "rforest_report_skb = classification_report(test_Y_skb, ypred_rforest_skb, target_names=class_names)\n",
    "print(rforest_report_skb)\n",
    "\n",
    "#create confusion matrix for naive bayes model after selectKbest\n",
    "print('Confusion Matrix:')\n",
    "confusion_matrix(test_Y_skb, ypred_rforest_skb)"
   ]
  },
  {
   "cell_type": "markdown",
   "metadata": {},
   "source": [
    "### The Random Forest Models, as expected, worked even better than the Decision Tree models.  This is because Random Forests, being one of the major ensemble modeling alogorithms, create many decision trees that are each based on a different subset of the dataset.  Then The decision trees within the random forest vote on the final output, and the majority class wins.  This is called bagging, and the idea of this is that the combination of learning from many tree models (versus one in a regular decision tree algorithm) increases the overall result.\n",
    "\n",
    "### This could explain the higher average cross validated score of 98% from the random forest models, versus scores that fell in the range of 93-95% with the regular decision tree models."
   ]
  },
  {
   "cell_type": "markdown",
   "metadata": {},
   "source": [
    "# Gradient Boost:"
   ]
  },
  {
   "cell_type": "code",
   "execution_count": 83,
   "metadata": {},
   "outputs": [
    {
     "name": "stdout",
     "output_type": "stream",
     "text": [
      "Best parameters for Gradient Boost Model are: {'learning_rate': 0.02, 'max_depth': 2, 'min_samples_leaf': 5, 'n_estimators': 200, 'subsample': 0.7}\n"
     ]
    }
   ],
   "source": [
    "#Run gridsearchcv to find the best parameters for gradient boosting using full dataset\n",
    "gboost_param_grid = {'n_estimators':[200,400,600], 'max_depth':[2,4,6], 'min_samples_leaf': [3, 5, 9], \n",
    "                     'learning_rate': [.05, .02, .01], 'subsample': [.7, .8, .9]}\n",
    "gb_model = ensemble.GradientBoostingClassifier(random_state=67)\n",
    "\n",
    "gb_grid = GridSearchCV(gb_model, gboost_param_grid, cv=5)\n",
    "gb_grid.fit(train_X, train_Y)\n",
    "print('Best parameters for Gradient Boost Model are:', gb_grid.best_params_)"
   ]
  },
  {
   "cell_type": "code",
   "execution_count": 84,
   "metadata": {},
   "outputs": [
    {
     "name": "stdout",
     "output_type": "stream",
     "text": [
      "Accuracy score for Gradient Boost Model: 0.958041958041958\n",
      "\n",
      "Duration: 0:00:00.215027\n",
      "\n",
      "[0.9375     0.96875    0.98958333 0.96808511 1.        ]\n",
      "Average cross validated score from our Gradient Boosting model is: 0.9727836879432624\n"
     ]
    }
   ],
   "source": [
    "# Initialize and fit the model using full data\n",
    "Grad_boost = ensemble.GradientBoostingClassifier(learning_rate=0.02, max_depth=2, min_samples_leaf=5, \n",
    "                                                 n_estimators=200, subsample=0.7, random_state=67)\n",
    "\n",
    "#set start time\n",
    "start_time_gb = datetime.datetime.now()\n",
    "\n",
    "#fit and train the model\n",
    "Grad_boost.fit(train_X, train_Y)\n",
    "\n",
    "# Classify, storing the result in a new variable.\n",
    "y_pred_Gboost = Grad_boost.predict(test_X)\n",
    "\n",
    "#get accuracy score from our model\n",
    "print('Accuracy score for Gradient Boost Model: ' + str(metrics.accuracy_score(test_Y, y_pred_Gboost)))\n",
    "\n",
    "#calculate end time\n",
    "end_time_gb = datetime.datetime.now()\n",
    "\n",
    "#print the execution run time for our model\n",
    "print('\\nDuration: {}'.format(end_time_gb - start_time_gb))\n",
    "print()\n",
    "\n",
    "#get average accuracy score using cross validation\n",
    "Grad_boost_cvs = cross_val_score(Grad_boost, X, Y, cv=5, scoring='accuracy')\n",
    "print(Grad_boost_cvs)\n",
    "\n",
    "print('Average cross validated score from our Gradient Boosting model is: ' + str(np.mean(Grad_boost_cvs)))"
   ]
  },
  {
   "cell_type": "code",
   "execution_count": 85,
   "metadata": {},
   "outputs": [
    {
     "name": "stdout",
     "output_type": "stream",
     "text": [
      "AUC Score: 0.992\n"
     ]
    },
    {
     "data": {
      "image/png": "[encoded data removed]",
      "text/plain": [
       "<Figure size 432x288 with 1 Axes>"
      ]
     },
     "metadata": {
      "needs_background": "light"
     },
     "output_type": "display_data"
    },
    {
     "name": "stdout",
     "output_type": "stream",
     "text": [
      "              precision    recall  f1-score   support\n",
      "\n",
      "     Class_0       0.96      0.96      0.96        73\n",
      "     Class_1       0.96      0.96      0.96        70\n",
      "\n",
      "   micro avg       0.96      0.96      0.96       143\n",
      "   macro avg       0.96      0.96      0.96       143\n",
      "weighted avg       0.96      0.96      0.96       143\n",
      "\n",
      "Confusion Matrix:\n"
     ]
    },
    {
     "data": {
      "text/plain": [
       "array([[70,  3],\n",
       "       [ 3, 67]], dtype=int64)"
      ]
     },
     "execution_count": 85,
     "metadata": {},
     "output_type": "execute_result"
    }
   ],
   "source": [
    "#Get AUC and create ROC\n",
    "# predict probabilities\n",
    "probs_Gboost = Grad_boost.predict_proba(test_X)\n",
    "# keep probabilities for the positive outcome only\n",
    "probs_Gboost = probs_Gboost[:, 1]\n",
    "# calculate AUC\n",
    "Gboost_auc = roc_auc_score(test_Y, probs_Gboost)\n",
    "print('AUC Score: %.3f' % Gboost_auc)\n",
    "# calculate roc curve\n",
    "fpr_Gboost, tpr_Gboost, thresholds_Gboost = roc_curve(test_Y, probs_Gboost)\n",
    "# plot no skill\n",
    "plt.plot([0, 1], [0, 1], linestyle='--')\n",
    "# plot the roc curve for the model\n",
    "plt.plot(fpr_Gboost, tpr_Gboost, marker='.')\n",
    "# show the plot\n",
    "plt.show()\n",
    "\n",
    "\n",
    "# perform classification report of the Gradient Boosting model\n",
    "class_names = ['Class_0', 'Class_1']\n",
    "Gboost_report = classification_report(test_Y, y_pred_Gboost, target_names=class_names)\n",
    "print(Gboost_report)\n",
    "\n",
    "#confusion matrix\n",
    "print('Confusion Matrix:')\n",
    "confusion_matrix(test_Y, y_pred_Gboost)\n"
   ]
  },
  {
   "cell_type": "code",
   "execution_count": 86,
   "metadata": {},
   "outputs": [
    {
     "name": "stdout",
     "output_type": "stream",
     "text": [
      "Best parameters for Gradient Boost Model using PCA are: {'learning_rate': 0.05, 'max_depth': 2, 'min_samples_leaf': 3, 'n_estimators': 200, 'subsample': 0.7}\n"
     ]
    }
   ],
   "source": [
    "#Run gridsearchcv to find the best parameters for gradient boosting using PCA\n",
    "gboost_params_pca = {'n_estimators':[200,400,600], 'max_depth':[2,4,6], 'min_samples_leaf': [3, 5, 9], \n",
    "                     'learning_rate': [.05, .02, .01], 'subsample': [.7, .8, .9]}\n",
    "gb_model_pca = ensemble.GradientBoostingClassifier(random_state=77)\n",
    "\n",
    "gb_grid_pca = GridSearchCV(gb_model_pca, gboost_params_pca, cv=5)\n",
    "gb_grid_pca.fit(train_X_pca, train_Y_pca)\n",
    "print('Best parameters for Gradient Boost Model using PCA are:', gb_grid_pca.best_params_)"
   ]
  },
  {
   "cell_type": "code",
   "execution_count": 88,
   "metadata": {},
   "outputs": [
    {
     "name": "stdout",
     "output_type": "stream",
     "text": [
      "Accuracy score for Gradient Boost Model using PCA is: 0.972027972027972\n",
      "\n",
      "Duration: 0:00:00.206349\n",
      "\n",
      "[0.92708333 0.96875    0.98958333 0.9787234  1.        ]\n",
      "Average cross validated score from our Gradient Boosting model using PCA is: 0.9728280141843971\n"
     ]
    }
   ],
   "source": [
    "# Initialize and fit the model using PCA\n",
    "Grad_boost_pca = ensemble.GradientBoostingClassifier(learning_rate=0.05, max_depth=2, min_samples_leaf=3, \n",
    "                                                 n_estimators=200, subsample=0.7, random_state=77)\n",
    "\n",
    "#set start time\n",
    "starttime_gb_pca = datetime.datetime.now()\n",
    "\n",
    "#fit and train the model\n",
    "Grad_boost_pca.fit(train_X_pca, train_Y_pca)\n",
    "\n",
    "# Classify, storing the result in a new variable.\n",
    "ypred_Gboost_pca = Grad_boost_pca.predict(test_X_pca)\n",
    "\n",
    "#get accuracy score from our model\n",
    "print('Accuracy score for Gradient Boost Model using PCA is: ' + str(metrics.accuracy_score(test_Y_pca, ypred_Gboost_pca)))\n",
    "\n",
    "#calculate end time\n",
    "endtime_gb_pca = datetime.datetime.now()\n",
    "\n",
    "#print the execution run time for our model\n",
    "print('\\nDuration: {}'.format(endtime_gb_pca - starttime_gb_pca))\n",
    "print()\n",
    "\n",
    "#get average accuracy score using cross validation\n",
    "Grad_boost_cvs_pca = cross_val_score(Grad_boost_pca, X, Y, cv=5, scoring='accuracy')\n",
    "print(Grad_boost_cvs_pca)\n",
    "\n",
    "print('Average cross validated score from our Gradient Boosting model using PCA is: ' + str(np.mean(Grad_boost_cvs_pca)))"
   ]
  },
  {
   "cell_type": "code",
   "execution_count": 89,
   "metadata": {},
   "outputs": [
    {
     "name": "stdout",
     "output_type": "stream",
     "text": [
      "AUC Score: 0.978\n"
     ]
    },
    {
     "data": {
      "image/png": "[encoded data removed]",
      "text/plain": [
       "<Figure size 432x288 with 1 Axes>"
      ]
     },
     "metadata": {
      "needs_background": "light"
     },
     "output_type": "display_data"
    },
    {
     "name": "stdout",
     "output_type": "stream",
     "text": [
      "              precision    recall  f1-score   support\n",
      "\n",
      "     Class_0       0.99      0.96      0.97        72\n",
      "     Class_1       0.96      0.99      0.97        71\n",
      "\n",
      "   micro avg       0.97      0.97      0.97       143\n",
      "   macro avg       0.97      0.97      0.97       143\n",
      "weighted avg       0.97      0.97      0.97       143\n",
      "\n",
      "Confusion Matrix:\n"
     ]
    },
    {
     "data": {
      "text/plain": [
       "array([[69,  3],\n",
       "       [ 1, 70]], dtype=int64)"
      ]
     },
     "execution_count": 89,
     "metadata": {},
     "output_type": "execute_result"
    }
   ],
   "source": [
    "#Get AUC and create ROC\n",
    "# predict probabilities\n",
    "probs_Gboost_pca = Grad_boost_pca.predict_proba(test_X_pca)\n",
    "# keep probabilities for the positive outcome only\n",
    "probs_Gboost_pca = probs_Gboost_pca[:, 1]\n",
    "# calculate AUC\n",
    "Gboost_auc_pca = roc_auc_score(test_Y_pca, probs_Gboost_pca)\n",
    "print('AUC Score: %.3f' % Gboost_auc_pca)\n",
    "# calculate roc curve\n",
    "fpr_Gboost_pca, tpr_Gboost_pca, thresholds_Gboost_pca = roc_curve(test_Y_pca, probs_Gboost_pca)\n",
    "# plot no skill\n",
    "plt.plot([0, 1], [0, 1], linestyle='--')\n",
    "# plot the roc curve for the model\n",
    "plt.plot(fpr_Gboost_pca, tpr_Gboost_pca, marker='.')\n",
    "# show the plot\n",
    "plt.show()\n",
    "\n",
    "\n",
    "# perform classification report of the Gradient Boosting model\n",
    "class_names = ['Class_0', 'Class_1']\n",
    "Gboost_report_pca = classification_report(test_Y_pca, ypred_Gboost_pca, target_names=class_names)\n",
    "print(Gboost_report_pca)\n",
    "\n",
    "#confusion matrix\n",
    "print('Confusion Matrix:')\n",
    "confusion_matrix(test_Y_pca, ypred_Gboost_pca)\n"
   ]
  },
  {
   "cell_type": "code",
   "execution_count": 90,
   "metadata": {},
   "outputs": [
    {
     "name": "stdout",
     "output_type": "stream",
     "text": [
      "Best parameters for Gradient Boost Model using SelectKBest are: {'learning_rate': 0.05, 'max_depth': 2, 'min_samples_leaf': 5, 'n_estimators': 200, 'subsample': 0.7}\n"
     ]
    }
   ],
   "source": [
    "#Run gridsearchcv to find the best parameters for gradient boosting using SelectKBest\n",
    "gboost_params_skb = {'n_estimators':[200,400,600], 'max_depth':[2,4,6], 'min_samples_leaf': [3, 5, 9], \n",
    "                     'learning_rate': [.05, .02, .01], 'subsample': [.7, .8, .9]}\n",
    "gb_model_skb = ensemble.GradientBoostingClassifier(89)\n",
    "\n",
    "gb_grid_skb = GridSearchCV(gb_model_skb, gboost_params_skb, cv=5)\n",
    "gb_grid_skb.fit(train_X_skb, train_Y_skb)\n",
    "print('Best parameters for Gradient Boost Model using SelectKBest are:', gb_grid_skb.best_params_)"
   ]
  },
  {
   "cell_type": "code",
   "execution_count": 92,
   "metadata": {},
   "outputs": [
    {
     "name": "stdout",
     "output_type": "stream",
     "text": [
      "Accuracy score for Gradient Boosting Model using SelectKBest: 0.958041958041958\n",
      "\n",
      "Duration: 0:00:00.216002\n",
      "\n",
      "[0.92708333 0.96875    0.97916667 0.96808511 1.        ]\n",
      "Average cross validated score from our Gradient Boosting model using SelectKBest is: 0.9686170212765959\n"
     ]
    }
   ],
   "source": [
    "# Initialize and fit the model using SelectKbest\n",
    "Grad_boost_skb = ensemble.GradientBoostingClassifier(learning_rate=0.05, max_depth=2, min_samples_leaf=5, \n",
    "                                                 n_estimators=200, subsample=0.7, random_state=89)\n",
    "\n",
    "#set start time\n",
    "starttime_gb_skb = datetime.datetime.now()\n",
    "\n",
    "#fit and train the model\n",
    "Grad_boost_skb.fit(train_X_skb, train_Y_skb)\n",
    "\n",
    "# Classify, storing the result in a new variable.\n",
    "ypred_Gboost_skb = Grad_boost_skb.predict(test_X_skb)\n",
    "\n",
    "#get accuracy score from our model\n",
    "print('Accuracy score for Gradient Boosting Model using SelectKBest: ' + str(metrics.accuracy_score(test_Y_skb, ypred_Gboost_skb)))\n",
    "\n",
    "#calculate end time\n",
    "endtime_gb_skb = datetime.datetime.now()\n",
    "\n",
    "#print the execution run time for our model\n",
    "print('\\nDuration: {}'.format(endtime_gb_skb - starttime_gb_skb))\n",
    "print()\n",
    "\n",
    "#get average accuracy score using cross validation\n",
    "Grad_boost_cvs_skb = cross_val_score(Grad_boost_skb, X, Y, cv=5, scoring='accuracy')\n",
    "print(Grad_boost_cvs_skb)\n",
    "\n",
    "print('Average cross validated score from our Gradient Boosting model using SelectKBest is: ' + str(np.mean(Grad_boost_cvs_skb)))"
   ]
  },
  {
   "cell_type": "code",
   "execution_count": 93,
   "metadata": {},
   "outputs": [
    {
     "name": "stdout",
     "output_type": "stream",
     "text": [
      "AUC Score: 0.981\n"
     ]
    },
    {
     "data": {
      "image/png": "[encoded data removed]",
      "text/plain": [
       "<Figure size 432x288 with 1 Axes>"
      ]
     },
     "metadata": {
      "needs_background": "light"
     },
     "output_type": "display_data"
    },
    {
     "name": "stdout",
     "output_type": "stream",
     "text": [
      "              precision    recall  f1-score   support\n",
      "\n",
      "     Class_0       0.97      0.94      0.96        72\n",
      "     Class_1       0.95      0.97      0.96        71\n",
      "\n",
      "   micro avg       0.96      0.96      0.96       143\n",
      "   macro avg       0.96      0.96      0.96       143\n",
      "weighted avg       0.96      0.96      0.96       143\n",
      "\n",
      "Confusion Matrix:\n"
     ]
    },
    {
     "data": {
      "text/plain": [
       "array([[68,  4],\n",
       "       [ 2, 69]], dtype=int64)"
      ]
     },
     "execution_count": 93,
     "metadata": {},
     "output_type": "execute_result"
    }
   ],
   "source": [
    "#Get AUC and create ROC\n",
    "# predict probabilities\n",
    "probs_Gboost_skb = Grad_boost_skb.predict_proba(test_X_skb)\n",
    "# keep probabilities for the positive outcome only\n",
    "probs_Gboost_skb = probs_Gboost_skb[:, 1]\n",
    "# calculate AUC\n",
    "Gboost_auc_skb = roc_auc_score(test_Y_skb, probs_Gboost_skb)\n",
    "print('AUC Score: %.3f' % Gboost_auc_skb)\n",
    "# calculate roc curve\n",
    "fpr_Gboost_skb, tpr_Gboost_skb, thresholds_Gboost_skb = roc_curve(test_Y_skb, probs_Gboost_skb)\n",
    "# plot no skill\n",
    "plt.plot([0, 1], [0, 1], linestyle='--')\n",
    "# plot the roc curve for the model\n",
    "plt.plot(fpr_Gboost_skb, tpr_Gboost_skb, marker='.')\n",
    "# show the plot\n",
    "plt.show()\n",
    "\n",
    "\n",
    "# perform classification report of the Gradient Boosting model\n",
    "class_names = ['Class_0', 'Class_1']\n",
    "Gboost_report_skb = classification_report(test_Y_skb, ypred_Gboost_skb, target_names=class_names)\n",
    "print(Gboost_report_skb)\n",
    "\n",
    "#confusion matrix\n",
    "print('Confusion Matrix:')\n",
    "confusion_matrix(test_Y_skb, ypred_Gboost_skb)"
   ]
  },
  {
   "cell_type": "markdown",
   "metadata": {},
   "source": [
    "### The Gradient Boosting models did much better than the basic decision tree model, with a score of 97%.  This model probably worked better because, like a random forest, it also builds an ensemble of trees to have a better prediction accuracy.  But unlike a random forest, it builds the next tree in the ensemble by accounting for the errors in the previous tree.  The errors in our classification model would be the incorrect predictios.  With this method, you get a better overall result."
   ]
  },
  {
   "cell_type": "markdown",
   "metadata": {},
   "source": [
    "# Logistic Regression:"
   ]
  },
  {
   "cell_type": "code",
   "execution_count": 95,
   "metadata": {},
   "outputs": [
    {
     "name": "stderr",
     "output_type": "stream",
     "text": [
      "C:\\Users\\PV-R68G\\Anaconda3\\lib\\site-packages\\sklearn\\linear_model\\logistic.py:433: FutureWarning: Default solver will be changed to 'lbfgs' in 0.22. Specify a solver to silence this warning.\n",
      "  FutureWarning)\n",
      "C:\\Users\\PV-R68G\\Anaconda3\\lib\\site-packages\\sklearn\\linear_model\\logistic.py:433: FutureWarning: Default solver will be changed to 'lbfgs' in 0.22. Specify a solver to silence this warning.\n",
      "  FutureWarning)\n",
      "C:\\Users\\PV-R68G\\Anaconda3\\lib\\site-packages\\sklearn\\linear_model\\logistic.py:433: FutureWarning: Default solver will be changed to 'lbfgs' in 0.22. Specify a solver to silence this warning.\n",
      "  FutureWarning)\n",
      "C:\\Users\\PV-R68G\\Anaconda3\\lib\\site-packages\\sklearn\\linear_model\\logistic.py:433: FutureWarning: Default solver will be changed to 'lbfgs' in 0.22. Specify a solver to silence this warning.\n",
      "  FutureWarning)\n",
      "C:\\Users\\PV-R68G\\Anaconda3\\lib\\site-packages\\sklearn\\linear_model\\logistic.py:433: FutureWarning: Default solver will be changed to 'lbfgs' in 0.22. Specify a solver to silence this warning.\n",
      "  FutureWarning)\n",
      "C:\\Users\\PV-R68G\\Anaconda3\\lib\\site-packages\\sklearn\\linear_model\\logistic.py:433: FutureWarning: Default solver will be changed to 'lbfgs' in 0.22. Specify a solver to silence this warning.\n",
      "  FutureWarning)\n",
      "C:\\Users\\PV-R68G\\Anaconda3\\lib\\site-packages\\sklearn\\linear_model\\logistic.py:433: FutureWarning: Default solver will be changed to 'lbfgs' in 0.22. Specify a solver to silence this warning.\n",
      "  FutureWarning)\n",
      "C:\\Users\\PV-R68G\\Anaconda3\\lib\\site-packages\\sklearn\\linear_model\\logistic.py:433: FutureWarning: Default solver will be changed to 'lbfgs' in 0.22. Specify a solver to silence this warning.\n",
      "  FutureWarning)\n",
      "C:\\Users\\PV-R68G\\Anaconda3\\lib\\site-packages\\sklearn\\linear_model\\logistic.py:433: FutureWarning: Default solver will be changed to 'lbfgs' in 0.22. Specify a solver to silence this warning.\n",
      "  FutureWarning)\n",
      "C:\\Users\\PV-R68G\\Anaconda3\\lib\\site-packages\\sklearn\\linear_model\\logistic.py:433: FutureWarning: Default solver will be changed to 'lbfgs' in 0.22. Specify a solver to silence this warning.\n",
      "  FutureWarning)\n",
      "C:\\Users\\PV-R68G\\Anaconda3\\lib\\site-packages\\sklearn\\linear_model\\logistic.py:433: FutureWarning: Default solver will be changed to 'lbfgs' in 0.22. Specify a solver to silence this warning.\n",
      "  FutureWarning)\n",
      "C:\\Users\\PV-R68G\\Anaconda3\\lib\\site-packages\\sklearn\\linear_model\\logistic.py:433: FutureWarning: Default solver will be changed to 'lbfgs' in 0.22. Specify a solver to silence this warning.\n",
      "  FutureWarning)\n",
      "C:\\Users\\PV-R68G\\Anaconda3\\lib\\site-packages\\sklearn\\linear_model\\logistic.py:433: FutureWarning: Default solver will be changed to 'lbfgs' in 0.22. Specify a solver to silence this warning.\n",
      "  FutureWarning)\n",
      "C:\\Users\\PV-R68G\\Anaconda3\\lib\\site-packages\\sklearn\\linear_model\\logistic.py:433: FutureWarning: Default solver will be changed to 'lbfgs' in 0.22. Specify a solver to silence this warning.\n",
      "  FutureWarning)\n",
      "C:\\Users\\PV-R68G\\Anaconda3\\lib\\site-packages\\sklearn\\linear_model\\logistic.py:433: FutureWarning: Default solver will be changed to 'lbfgs' in 0.22. Specify a solver to silence this warning.\n",
      "  FutureWarning)\n",
      "C:\\Users\\PV-R68G\\Anaconda3\\lib\\site-packages\\sklearn\\linear_model\\logistic.py:433: FutureWarning: Default solver will be changed to 'lbfgs' in 0.22. Specify a solver to silence this warning.\n",
      "  FutureWarning)\n",
      "C:\\Users\\PV-R68G\\Anaconda3\\lib\\site-packages\\sklearn\\linear_model\\logistic.py:433: FutureWarning: Default solver will be changed to 'lbfgs' in 0.22. Specify a solver to silence this warning.\n",
      "  FutureWarning)\n",
      "C:\\Users\\PV-R68G\\Anaconda3\\lib\\site-packages\\sklearn\\linear_model\\logistic.py:433: FutureWarning: Default solver will be changed to 'lbfgs' in 0.22. Specify a solver to silence this warning.\n",
      "  FutureWarning)\n"
     ]
    },
    {
     "name": "stdout",
     "output_type": "stream",
     "text": [
      "Best parameters for Logistic Regression are: {'C': 100000.0}\n"
     ]
    },
    {
     "name": "stderr",
     "output_type": "stream",
     "text": [
      "C:\\Users\\PV-R68G\\Anaconda3\\lib\\site-packages\\sklearn\\linear_model\\logistic.py:433: FutureWarning: Default solver will be changed to 'lbfgs' in 0.22. Specify a solver to silence this warning.\n",
      "  FutureWarning)\n",
      "C:\\Users\\PV-R68G\\Anaconda3\\lib\\site-packages\\sklearn\\linear_model\\logistic.py:433: FutureWarning: Default solver will be changed to 'lbfgs' in 0.22. Specify a solver to silence this warning.\n",
      "  FutureWarning)\n",
      "C:\\Users\\PV-R68G\\Anaconda3\\lib\\site-packages\\sklearn\\linear_model\\logistic.py:433: FutureWarning: Default solver will be changed to 'lbfgs' in 0.22. Specify a solver to silence this warning.\n",
      "  FutureWarning)\n",
      "C:\\Users\\PV-R68G\\Anaconda3\\lib\\site-packages\\sklearn\\linear_model\\logistic.py:433: FutureWarning: Default solver will be changed to 'lbfgs' in 0.22. Specify a solver to silence this warning.\n",
      "  FutureWarning)\n",
      "C:\\Users\\PV-R68G\\Anaconda3\\lib\\site-packages\\sklearn\\linear_model\\logistic.py:433: FutureWarning: Default solver will be changed to 'lbfgs' in 0.22. Specify a solver to silence this warning.\n",
      "  FutureWarning)\n",
      "C:\\Users\\PV-R68G\\Anaconda3\\lib\\site-packages\\sklearn\\linear_model\\logistic.py:433: FutureWarning: Default solver will be changed to 'lbfgs' in 0.22. Specify a solver to silence this warning.\n",
      "  FutureWarning)\n",
      "C:\\Users\\PV-R68G\\Anaconda3\\lib\\site-packages\\sklearn\\linear_model\\logistic.py:433: FutureWarning: Default solver will be changed to 'lbfgs' in 0.22. Specify a solver to silence this warning.\n",
      "  FutureWarning)\n",
      "C:\\Users\\PV-R68G\\Anaconda3\\lib\\site-packages\\sklearn\\linear_model\\logistic.py:433: FutureWarning: Default solver will be changed to 'lbfgs' in 0.22. Specify a solver to silence this warning.\n",
      "  FutureWarning)\n"
     ]
    }
   ],
   "source": [
    "#Run gridsearchcv to find the best parameters for logistic regression using full data\n",
    "LogReg_params = {'C': np.logspace(-10, 10, 5)}\n",
    "LogReg_Model = LogisticRegression(random_state=97)\n",
    "\n",
    "LogReg_grid = GridSearchCV(LogReg_Model, LogReg_params, cv=5)\n",
    "LogReg_grid.fit(train_X, train_Y)\n",
    "print('Best parameters for Logistic Regression are:', LogReg_grid.best_params_)"
   ]
  },
  {
   "cell_type": "code",
   "execution_count": 97,
   "metadata": {},
   "outputs": [
    {
     "name": "stdout",
     "output_type": "stream",
     "text": [
      "Accuracy score for Logistic regression Model: 0.965034965034965\n",
      "\n",
      "Duration: 0:00:00.008001\n",
      "\n",
      "[0.96875    0.95833333 0.98958333 0.9787234  1.        ]\n",
      "Average cross validated score from our log regression model is: 0.9790780141843971\n"
     ]
    },
    {
     "name": "stderr",
     "output_type": "stream",
     "text": [
      "C:\\Users\\PV-R68G\\Anaconda3\\lib\\site-packages\\sklearn\\linear_model\\logistic.py:433: FutureWarning: Default solver will be changed to 'lbfgs' in 0.22. Specify a solver to silence this warning.\n",
      "  FutureWarning)\n",
      "C:\\Users\\PV-R68G\\Anaconda3\\lib\\site-packages\\sklearn\\linear_model\\logistic.py:433: FutureWarning: Default solver will be changed to 'lbfgs' in 0.22. Specify a solver to silence this warning.\n",
      "  FutureWarning)\n",
      "C:\\Users\\PV-R68G\\Anaconda3\\lib\\site-packages\\sklearn\\linear_model\\logistic.py:433: FutureWarning: Default solver will be changed to 'lbfgs' in 0.22. Specify a solver to silence this warning.\n",
      "  FutureWarning)\n",
      "C:\\Users\\PV-R68G\\Anaconda3\\lib\\site-packages\\sklearn\\linear_model\\logistic.py:433: FutureWarning: Default solver will be changed to 'lbfgs' in 0.22. Specify a solver to silence this warning.\n",
      "  FutureWarning)\n",
      "C:\\Users\\PV-R68G\\Anaconda3\\lib\\site-packages\\sklearn\\linear_model\\logistic.py:433: FutureWarning: Default solver will be changed to 'lbfgs' in 0.22. Specify a solver to silence this warning.\n",
      "  FutureWarning)\n",
      "C:\\Users\\PV-R68G\\Anaconda3\\lib\\site-packages\\sklearn\\linear_model\\logistic.py:433: FutureWarning: Default solver will be changed to 'lbfgs' in 0.22. Specify a solver to silence this warning.\n",
      "  FutureWarning)\n"
     ]
    }
   ],
   "source": [
    "#initialize and train our model with full data\n",
    "LogReg = LogisticRegression(C=1e6, random_state=97)\n",
    "\n",
    "#set start time\n",
    "starttime_LogReg = datetime.datetime.now()\n",
    "\n",
    "#fit and train the model\n",
    "LogReg.fit(train_X, train_Y)\n",
    "\n",
    "# Classify, storing the result in a new variable.\n",
    "y_pred_LogReg = LogReg.predict(test_X)\n",
    "\n",
    "#get accuracy score from our model\n",
    "print('Accuracy score for Logistic regression Model: ' + str(metrics.accuracy_score(test_Y, y_pred_LogReg)))\n",
    "\n",
    "#calculate end time\n",
    "endtime_LogReg = datetime.datetime.now()\n",
    "\n",
    "#print the execution run time for our model\n",
    "print('\\nDuration: {}'.format(endtime_LogReg - starttime_LogReg))\n",
    "print()\n",
    "\n",
    "#get average accuracy score using cross validation\n",
    "LogReg_cvs = cross_val_score(LogReg, X, Y, cv=5, scoring='accuracy')\n",
    "print(LogReg_cvs)\n",
    "\n",
    "print('Average cross validated score from our log regression model is: ' + str(np.mean(LogReg_cvs)))"
   ]
  },
  {
   "cell_type": "code",
   "execution_count": 98,
   "metadata": {},
   "outputs": [
    {
     "name": "stdout",
     "output_type": "stream",
     "text": [
      "AUC Score: 0.997\n"
     ]
    },
    {
     "data": {
      "image/png": "[encoded data removed]",
      "text/plain": [
       "<Figure size 432x288 with 1 Axes>"
      ]
     },
     "metadata": {
      "needs_background": "light"
     },
     "output_type": "display_data"
    },
    {
     "name": "stdout",
     "output_type": "stream",
     "text": [
      "              precision    recall  f1-score   support\n",
      "\n",
      "     Class_0       0.97      0.96      0.97        73\n",
      "     Class_1       0.96      0.97      0.96        70\n",
      "\n",
      "   micro avg       0.97      0.97      0.97       143\n",
      "   macro avg       0.96      0.97      0.97       143\n",
      "weighted avg       0.97      0.97      0.97       143\n",
      "\n"
     ]
    },
    {
     "data": {
      "text/plain": [
       "array([[70,  3],\n",
       "       [ 2, 68]], dtype=int64)"
      ]
     },
     "execution_count": 98,
     "metadata": {},
     "output_type": "execute_result"
    }
   ],
   "source": [
    "#Get AUC and create ROC\n",
    "# predict probabilities\n",
    "probs_LogReg = LogReg.predict_proba(test_X)\n",
    "# keep probabilities for the positive outcome only\n",
    "probs_LogReg = probs_LogReg[:, 1]\n",
    "# calculate AUC\n",
    "LogReg_auc = roc_auc_score(test_Y, probs_LogReg)\n",
    "print('AUC Score: %.3f' % LogReg_auc)\n",
    "# calculate roc curve\n",
    "fpr_LogReg, tpr_LogReg, thresholds_LogReg = roc_curve(test_Y, probs_LogReg)\n",
    "# plot no skill\n",
    "plt.plot([0, 1], [0, 1], linestyle='--')\n",
    "# plot the roc curve for the model\n",
    "plt.plot(fpr_LogReg, tpr_LogReg, marker='.')\n",
    "# show the plot\n",
    "plt.show()\n",
    "\n",
    "\n",
    "# perform classification report of the logistic regression model\n",
    "class_names = ['Class_0', 'Class_1']\n",
    "LogReg_report = classification_report(test_Y, y_pred_LogReg, target_names=class_names)\n",
    "print(LogReg_report)\n",
    "\n",
    "# create confusion matrix\n",
    "confusion_matrix(test_Y, y_pred_LogReg)\n",
    "\n",
    "\n"
   ]
  },
  {
   "cell_type": "code",
   "execution_count": 110,
   "metadata": {},
   "outputs": [
    {
     "name": "stdout",
     "output_type": "stream",
     "text": [
      "Accuracy score for Logistic regression Model using PCA: 0.958041958041958\n",
      "\n",
      "Duration: 0:00:00.005004\n",
      "\n",
      "[0.96875    0.95833333 0.98958333 0.9787234  1.        ]\n",
      "Average cross validated score from our log regression model using PCA is: 0.9790780141843971\n"
     ]
    },
    {
     "name": "stderr",
     "output_type": "stream",
     "text": [
      "C:\\Users\\PV-R68G\\Anaconda3\\lib\\site-packages\\sklearn\\linear_model\\logistic.py:433: FutureWarning: Default solver will be changed to 'lbfgs' in 0.22. Specify a solver to silence this warning.\n",
      "  FutureWarning)\n",
      "C:\\Users\\PV-R68G\\Anaconda3\\lib\\site-packages\\sklearn\\linear_model\\logistic.py:433: FutureWarning: Default solver will be changed to 'lbfgs' in 0.22. Specify a solver to silence this warning.\n",
      "  FutureWarning)\n",
      "C:\\Users\\PV-R68G\\Anaconda3\\lib\\site-packages\\sklearn\\linear_model\\logistic.py:433: FutureWarning: Default solver will be changed to 'lbfgs' in 0.22. Specify a solver to silence this warning.\n",
      "  FutureWarning)\n",
      "C:\\Users\\PV-R68G\\Anaconda3\\lib\\site-packages\\sklearn\\linear_model\\logistic.py:433: FutureWarning: Default solver will be changed to 'lbfgs' in 0.22. Specify a solver to silence this warning.\n",
      "  FutureWarning)\n",
      "C:\\Users\\PV-R68G\\Anaconda3\\lib\\site-packages\\sklearn\\linear_model\\logistic.py:433: FutureWarning: Default solver will be changed to 'lbfgs' in 0.22. Specify a solver to silence this warning.\n",
      "  FutureWarning)\n",
      "C:\\Users\\PV-R68G\\Anaconda3\\lib\\site-packages\\sklearn\\linear_model\\logistic.py:433: FutureWarning: Default solver will be changed to 'lbfgs' in 0.22. Specify a solver to silence this warning.\n",
      "  FutureWarning)\n"
     ]
    }
   ],
   "source": [
    "#initialize and train our model with PCA\n",
    "LogReg_pca = LogisticRegression(C=1e6, random_state=140)\n",
    "\n",
    "#set start time\n",
    "starttime_LogReg_pca = datetime.datetime.now()\n",
    "\n",
    "#fit and train the model\n",
    "LogReg_pca.fit(train_X_pca, train_Y_pca)\n",
    "\n",
    "# Classify, storing the result in a new variable.\n",
    "ypred_LogReg_pca = LogReg_pca.predict(test_X_pca)\n",
    "\n",
    "#get accuracy score from our model\n",
    "print('Accuracy score for Logistic regression Model using PCA: ' + str(metrics.accuracy_score(test_Y_pca, ypred_LogReg_pca)))\n",
    "\n",
    "#calculate end time\n",
    "endtime_LogReg_pca = datetime.datetime.now()\n",
    "\n",
    "#print the execution run time for our model\n",
    "print('\\nDuration: {}'.format(endtime_LogReg_pca - starttime_LogReg_pca))\n",
    "print()\n",
    "\n",
    "#get average accuracy score using cross validation\n",
    "LogReg_cvs_pca = cross_val_score(LogReg_pca, X, Y, cv=5, scoring='accuracy')\n",
    "print(LogReg_cvs_pca)\n",
    "\n",
    "print('Average cross validated score from our log regression model using PCA is: ' + str(np.mean(LogReg_cvs)))"
   ]
  },
  {
   "cell_type": "code",
   "execution_count": 111,
   "metadata": {},
   "outputs": [
    {
     "name": "stdout",
     "output_type": "stream",
     "text": [
      "AUC Score: 0.989\n"
     ]
    },
    {
     "data": {
      "image/png": "[encoded data removed]",
      "text/plain": [
       "<Figure size 432x288 with 1 Axes>"
      ]
     },
     "metadata": {
      "needs_background": "light"
     },
     "output_type": "display_data"
    },
    {
     "name": "stdout",
     "output_type": "stream",
     "text": [
      "              precision    recall  f1-score   support\n",
      "\n",
      "     Class_0       0.96      0.96      0.96        72\n",
      "     Class_1       0.96      0.96      0.96        71\n",
      "\n",
      "   micro avg       0.96      0.96      0.96       143\n",
      "   macro avg       0.96      0.96      0.96       143\n",
      "weighted avg       0.96      0.96      0.96       143\n",
      "\n"
     ]
    },
    {
     "data": {
      "text/plain": [
       "array([[69,  3],\n",
       "       [ 3, 68]], dtype=int64)"
      ]
     },
     "execution_count": 111,
     "metadata": {},
     "output_type": "execute_result"
    }
   ],
   "source": [
    "#Get AUC and create ROC\n",
    "# predict probabilities\n",
    "probs_LogReg_pca = LogReg_pca.predict_proba(test_X_pca)\n",
    "# keep probabilities for the positive outcome only\n",
    "probs_LogReg_pca = probs_LogReg_pca[:, 1]\n",
    "# calculate AUC\n",
    "LogReg_auc_pca = roc_auc_score(test_Y_pca, probs_LogReg_pca)\n",
    "print('AUC Score: %.3f' % LogReg_auc_pca)\n",
    "# calculate roc curve\n",
    "fpr_LogReg_pca, tpr_LogReg_pca, thresholds_LogReg_pca = roc_curve(test_Y_pca, probs_LogReg_pca)\n",
    "# plot no skill\n",
    "plt.plot([0, 1], [0, 1], linestyle='--')\n",
    "# plot the roc curve for the model\n",
    "plt.plot(fpr_LogReg_pca, tpr_LogReg_pca, marker='.')\n",
    "# show the plot\n",
    "plt.show()\n",
    "\n",
    "\n",
    "# perform classification report of the logistic regression model\n",
    "class_names = ['Class_0', 'Class_1']\n",
    "LogReg_report_pca = classification_report(test_Y_pca, ypred_LogReg_pca, target_names=class_names)\n",
    "print(LogReg_report_pca)\n",
    "\n",
    "# create confusion matrix\n",
    "confusion_matrix(test_Y_pca, ypred_LogReg_pca)\n"
   ]
  },
  {
   "cell_type": "code",
   "execution_count": 112,
   "metadata": {},
   "outputs": [
    {
     "name": "stdout",
     "output_type": "stream",
     "text": [
      "Accuracy score for Logistic regression Model using SelectKBest: 0.951048951048951\n",
      "\n",
      "Duration: 0:00:00.006005\n",
      "\n",
      "[0.96875    0.95833333 0.98958333 0.9787234  1.        ]\n",
      "Average cross validated score from our log regression model using PCA is: 0.9790780141843971\n"
     ]
    },
    {
     "name": "stderr",
     "output_type": "stream",
     "text": [
      "C:\\Users\\PV-R68G\\Anaconda3\\lib\\site-packages\\sklearn\\linear_model\\logistic.py:433: FutureWarning: Default solver will be changed to 'lbfgs' in 0.22. Specify a solver to silence this warning.\n",
      "  FutureWarning)\n",
      "C:\\Users\\PV-R68G\\Anaconda3\\lib\\site-packages\\sklearn\\linear_model\\logistic.py:433: FutureWarning: Default solver will be changed to 'lbfgs' in 0.22. Specify a solver to silence this warning.\n",
      "  FutureWarning)\n",
      "C:\\Users\\PV-R68G\\Anaconda3\\lib\\site-packages\\sklearn\\linear_model\\logistic.py:433: FutureWarning: Default solver will be changed to 'lbfgs' in 0.22. Specify a solver to silence this warning.\n",
      "  FutureWarning)\n",
      "C:\\Users\\PV-R68G\\Anaconda3\\lib\\site-packages\\sklearn\\linear_model\\logistic.py:433: FutureWarning: Default solver will be changed to 'lbfgs' in 0.22. Specify a solver to silence this warning.\n",
      "  FutureWarning)\n",
      "C:\\Users\\PV-R68G\\Anaconda3\\lib\\site-packages\\sklearn\\linear_model\\logistic.py:433: FutureWarning: Default solver will be changed to 'lbfgs' in 0.22. Specify a solver to silence this warning.\n",
      "  FutureWarning)\n",
      "C:\\Users\\PV-R68G\\Anaconda3\\lib\\site-packages\\sklearn\\linear_model\\logistic.py:433: FutureWarning: Default solver will be changed to 'lbfgs' in 0.22. Specify a solver to silence this warning.\n",
      "  FutureWarning)\n"
     ]
    }
   ],
   "source": [
    "#initialize and train our model with SelectKBest\n",
    "LogReg_skb = LogisticRegression(C=1e9, random_state=180)\n",
    "\n",
    "#set start time\n",
    "starttime_LogReg_skb = datetime.datetime.now()\n",
    "\n",
    "#fit and train the model\n",
    "LogReg_skb.fit(train_X_skb, train_Y_skb)\n",
    "\n",
    "# Classify, storing the result in a new variable.\n",
    "ypred_LogReg_skb = LogReg_skb.predict(test_X_skb)\n",
    "\n",
    "#get accuracy score from our model\n",
    "print('Accuracy score for Logistic regression Model using SelectKBest: ' + str(metrics.accuracy_score(test_Y_skb, ypred_LogReg_skb)))\n",
    "\n",
    "#calculate end time\n",
    "endtime_LogReg_skb = datetime.datetime.now()\n",
    "\n",
    "#print the execution run time for our model\n",
    "print('\\nDuration: {}'.format(endtime_LogReg_skb - starttime_LogReg_skb))\n",
    "print()\n",
    "\n",
    "#get average accuracy score using cross validation\n",
    "LogReg_cvs_skb = cross_val_score(LogReg_skb, X, Y, cv=5, scoring='accuracy')\n",
    "print(LogReg_cvs_skb)\n",
    "\n",
    "print('Average cross validated score from our log regression model using PCA is: ' + str(np.mean(LogReg_cvs_skb)))"
   ]
  },
  {
   "cell_type": "code",
   "execution_count": 113,
   "metadata": {},
   "outputs": [
    {
     "name": "stdout",
     "output_type": "stream",
     "text": [
      "AUC Score: 0.987\n"
     ]
    },
    {
     "data": {
      "image/png": "[encoded data removed]",
      "text/plain": [
       "<Figure size 432x288 with 1 Axes>"
      ]
     },
     "metadata": {
      "needs_background": "light"
     },
     "output_type": "display_data"
    },
    {
     "name": "stdout",
     "output_type": "stream",
     "text": [
      "              precision    recall  f1-score   support\n",
      "\n",
      "     Class_0       0.95      0.96      0.95        72\n",
      "     Class_1       0.96      0.94      0.95        71\n",
      "\n",
      "   micro avg       0.95      0.95      0.95       143\n",
      "   macro avg       0.95      0.95      0.95       143\n",
      "weighted avg       0.95      0.95      0.95       143\n",
      "\n"
     ]
    },
    {
     "data": {
      "text/plain": [
       "array([[69,  3],\n",
       "       [ 4, 67]], dtype=int64)"
      ]
     },
     "execution_count": 113,
     "metadata": {},
     "output_type": "execute_result"
    }
   ],
   "source": [
    "#Get AUC and create ROC\n",
    "# predict probabilities\n",
    "probs_LogReg_skb = LogReg_skb.predict_proba(test_X_skb)\n",
    "# keep probabilities for the positive outcome only\n",
    "probs_LogReg_skb = probs_LogReg_skb[:, 1]\n",
    "# calculate AUC\n",
    "LogReg_auc_skb = roc_auc_score(test_Y_skb, probs_LogReg_skb)\n",
    "print('AUC Score: %.3f' % LogReg_auc_skb)\n",
    "# calculate roc curve\n",
    "fpr_LogReg_skb, tpr_LogReg_skb, thresholds_LogReg_skb = roc_curve(test_Y_skb, probs_LogReg_skb)\n",
    "# plot no skill\n",
    "plt.plot([0, 1], [0, 1], linestyle='--')\n",
    "# plot the roc curve for the model\n",
    "plt.plot(fpr_LogReg_skb, tpr_LogReg_skb, marker='.')\n",
    "# show the plot\n",
    "plt.show()\n",
    "\n",
    "\n",
    "# perform classification report of the logistic regression model\n",
    "class_names = ['Class_0', 'Class_1']\n",
    "LogReg_report_skb = classification_report(test_Y_skb, ypred_LogReg_skb, target_names=class_names)\n",
    "print(LogReg_report_skb)\n",
    "\n",
    "# create confusion matrix\n",
    "confusion_matrix(test_Y_skb, ypred_LogReg_skb)"
   ]
  },
  {
   "cell_type": "markdown",
   "metadata": {},
   "source": [
    "# KNN:"
   ]
  },
  {
   "cell_type": "code",
   "execution_count": 114,
   "metadata": {},
   "outputs": [
    {
     "name": "stdout",
     "output_type": "stream",
     "text": [
      "Best parameters for data: {'n_neighbors': 5, 'weights': 'distance'}\n"
     ]
    }
   ],
   "source": [
    "# perform grid search to find the optimal parameters for our KNN model using full data.\n",
    "KNN_model = KNeighborsClassifier()\n",
    "KNN_params = {'n_neighbors':[5,10,15], 'weights':['uniform', 'distance']}\n",
    "KNN_grid = GridSearchCV(KNN_model, KNN_params, cv=5)\n",
    "KNN_grid.fit(train_X, train_Y)\n",
    "print('Best parameters for data:', KNN_grid.best_params_)"
   ]
  },
  {
   "cell_type": "code",
   "execution_count": 115,
   "metadata": {},
   "outputs": [
    {
     "name": "stdout",
     "output_type": "stream",
     "text": [
      "Accuracy score for KNN Model: 0.958041958041958\n",
      "\n",
      "Duration: 0:00:00.011009\n",
      "\n",
      "[0.95833333 0.95833333 1.         0.94680851 0.9893617 ]\n",
      "Average cross validated score from our KNN model is: 0.9705673758865249\n"
     ]
    }
   ],
   "source": [
    "#initialize and train our model using the training set\n",
    "KNN = KNeighborsClassifier(n_neighbors=5, weights='distance')\n",
    "\n",
    "#set start time\n",
    "starttime_knn = datetime.datetime.now()\n",
    "\n",
    "#fit and train the model\n",
    "KNN.fit(train_X,train_Y)\n",
    "\n",
    "#Make predictions using test_X, and store results in new variable\n",
    "y_pred_KNN = KNN.predict(test_X)\n",
    "\n",
    "print('Accuracy score for KNN Model: ' + str(metrics.accuracy_score(test_Y, y_pred_KNN)))\n",
    "\n",
    "#calculate end time\n",
    "endtime_knn = datetime.datetime.now()\n",
    "\n",
    "#print the execution run time for our model\n",
    "print('\\nDuration: {}'.format(endtime_knn - starttime_knn))\n",
    "print()\n",
    "\n",
    "\n",
    "KNN_cvs = cross_val_score(KNN, X, Y, cv=5, scoring='accuracy')\n",
    "print(KNN_cvs)\n",
    "print('Average cross validated score from our KNN model is: ' + str(np.mean(KNN_cvs)))\n"
   ]
  },
  {
   "cell_type": "code",
   "execution_count": 116,
   "metadata": {},
   "outputs": [
    {
     "name": "stdout",
     "output_type": "stream",
     "text": [
      "AUC Score: 0.983\n"
     ]
    },
    {
     "data": {
      "image/png": "[encoded data removed]",
      "text/plain": [
       "<Figure size 432x288 with 1 Axes>"
      ]
     },
     "metadata": {
      "needs_background": "light"
     },
     "output_type": "display_data"
    },
    {
     "name": "stdout",
     "output_type": "stream",
     "text": [
      "              precision    recall  f1-score   support\n",
      "\n",
      "     Class_0       0.96      0.96      0.96        73\n",
      "     Class_1       0.96      0.96      0.96        70\n",
      "\n",
      "   micro avg       0.96      0.96      0.96       143\n",
      "   macro avg       0.96      0.96      0.96       143\n",
      "weighted avg       0.96      0.96      0.96       143\n",
      "\n"
     ]
    },
    {
     "data": {
      "text/plain": [
       "array([[69,  4],\n",
       "       [ 2, 68]], dtype=int64)"
      ]
     },
     "execution_count": 116,
     "metadata": {},
     "output_type": "execute_result"
    }
   ],
   "source": [
    "#Get AUC and create ROC\n",
    "# predict probabilities\n",
    "probs_KNN = KNN.predict_proba(test_X)\n",
    "# keep probabilities for the positive outcome only\n",
    "probs_KNN = probs_KNN[:, 1]\n",
    "# calculate AUC\n",
    "KNN_auc = roc_auc_score(test_Y, probs_KNN)\n",
    "print('AUC Score: %.3f' % KNN_auc)\n",
    "# calculate roc curve\n",
    "fpr_KNN, tpr_KNN, thresholds_KNN = roc_curve(test_Y, probs_KNN)\n",
    "# plot no skill\n",
    "plt.plot([0, 1], [0, 1], linestyle='--')\n",
    "# plot the roc curve for the model\n",
    "plt.plot(fpr_KNN, tpr_KNN, marker='.')\n",
    "# show the plot\n",
    "plt.show()\n",
    "\n",
    "# perform classification report of the KNN model\n",
    "class_names = ['Class_0', 'Class_1']\n",
    "KNN_report = classification_report(test_Y, y_pred_KNN, target_names=class_names)\n",
    "print(Gboost_report)\n",
    "\n",
    "# confusion Matrix\n",
    "confusion_matrix(test_Y, y_pred_KNN)\n",
    "\n"
   ]
  },
  {
   "cell_type": "code",
   "execution_count": 117,
   "metadata": {},
   "outputs": [
    {
     "name": "stdout",
     "output_type": "stream",
     "text": [
      "Best parameters for data: {'n_neighbors': 5, 'weights': 'uniform'}\n"
     ]
    }
   ],
   "source": [
    "# perform grid search to find the optimal parameters for our KNN model using PCA.\n",
    "KNN_model_pca = KNeighborsClassifier()\n",
    "KNN_params_pca = {'n_neighbors':[5,10,15], 'weights':['uniform', 'distance']}\n",
    "KNN_grid_pca = GridSearchCV(KNN_model_pca, KNN_params_pca, cv=5)\n",
    "KNN_grid_pca.fit(train_X_pca, train_Y_pca)\n",
    "print('Best parameters for data:', KNN_grid_pca.best_params_)"
   ]
  },
  {
   "cell_type": "code",
   "execution_count": 119,
   "metadata": {},
   "outputs": [
    {
     "name": "stdout",
     "output_type": "stream",
     "text": [
      "Accuracy score for KNN Model with PCA: 0.958041958041958\n",
      "\n",
      "Duration: 0:00:00.006003\n",
      "\n",
      "[0.95833333 0.95833333 1.         0.94680851 0.9893617 ]\n",
      "Average cross validated score from our KNN model with PCA is: 0.9705673758865249\n"
     ]
    }
   ],
   "source": [
    "#initialize and train our model using the training set using PCA\n",
    "KNN_pca = KNeighborsClassifier(n_neighbors=5, weights='uniform')\n",
    "\n",
    "#set start time\n",
    "starttime_knn_pca = datetime.datetime.now()\n",
    "\n",
    "#fit and train the model\n",
    "KNN_pca.fit(train_X_pca,train_Y_pca)\n",
    "\n",
    "#Make predictions using test_X, and store results in new variable\n",
    "ypred_KNN_pca = KNN_pca.predict(test_X_pca)\n",
    "\n",
    "print('Accuracy score for KNN Model with PCA: ' + str(metrics.accuracy_score(test_Y_pca, ypred_KNN_pca)))\n",
    "\n",
    "#calculate end time\n",
    "endtime_knn_pca = datetime.datetime.now()\n",
    "\n",
    "#print the execution run time for our model\n",
    "print('\\nDuration: {}'.format(endtime_knn_pca - starttime_knn_pca))\n",
    "print()\n",
    "\n",
    "\n",
    "KNN_cvs_pca = cross_val_score(KNN_pca, X, Y, cv=5, scoring='accuracy')\n",
    "print(KNN_cvs_pca)\n",
    "print('Average cross validated score from our KNN model with PCA is: ' + str(np.mean(KNN_cvs_pca)))\n"
   ]
  },
  {
   "cell_type": "code",
   "execution_count": 120,
   "metadata": {},
   "outputs": [
    {
     "name": "stdout",
     "output_type": "stream",
     "text": [
      "AUC Score: 0.976\n"
     ]
    },
    {
     "data": {
      "image/png": "[encoded data removed]",
      "text/plain": [
       "<Figure size 432x288 with 1 Axes>"
      ]
     },
     "metadata": {
      "needs_background": "light"
     },
     "output_type": "display_data"
    },
    {
     "name": "stdout",
     "output_type": "stream",
     "text": [
      "              precision    recall  f1-score   support\n",
      "\n",
      "     Class_0       0.96      0.96      0.96        73\n",
      "     Class_1       0.96      0.96      0.96        70\n",
      "\n",
      "   micro avg       0.96      0.96      0.96       143\n",
      "   macro avg       0.96      0.96      0.96       143\n",
      "weighted avg       0.96      0.96      0.96       143\n",
      "\n"
     ]
    },
    {
     "data": {
      "text/plain": [
       "array([[69,  3],\n",
       "       [ 3, 68]], dtype=int64)"
      ]
     },
     "execution_count": 120,
     "metadata": {},
     "output_type": "execute_result"
    }
   ],
   "source": [
    "#Get AUC and create ROC\n",
    "# predict probabilities\n",
    "probs_KNN_pca = KNN_pca.predict_proba(test_X_pca)\n",
    "# keep probabilities for the positive outcome only\n",
    "probs_KNN_pca = probs_KNN_pca[:, 1]\n",
    "# calculate AUC\n",
    "KNN_auc_pca = roc_auc_score(test_Y_pca, probs_KNN_pca)\n",
    "print('AUC Score: %.3f' % KNN_auc_pca)\n",
    "# calculate roc curve\n",
    "fpr_KNN_pca, tpr_KNN_pca, thresholds_KNN_pca = roc_curve(test_Y_pca, probs_KNN_pca)\n",
    "# plot no skill\n",
    "plt.plot([0, 1], [0, 1], linestyle='--')\n",
    "# plot the roc curve for the model\n",
    "plt.plot(fpr_KNN_pca, tpr_KNN_pca, marker='.')\n",
    "# show the plot\n",
    "plt.show()\n",
    "\n",
    "# perform classification report of the KNN model\n",
    "class_names = ['Class_0', 'Class_1']\n",
    "KNN_report_pca = classification_report(test_Y_pca, ypred_KNN_pca, target_names=class_names)\n",
    "print(Gboost_report)\n",
    "\n",
    "# confusion Matrix\n",
    "confusion_matrix(test_Y_pca, ypred_KNN_pca)"
   ]
  },
  {
   "cell_type": "code",
   "execution_count": 121,
   "metadata": {},
   "outputs": [
    {
     "name": "stdout",
     "output_type": "stream",
     "text": [
      "Best parameters for data: {'n_neighbors': 5, 'weights': 'uniform'}\n"
     ]
    }
   ],
   "source": [
    "# perform grid search to find the optimal parameters for our KNN model using SelectKBest.\n",
    "KNN_model_skb = KNeighborsClassifier()\n",
    "KNN_params_skb = {'n_neighbors':[5,10,15], 'weights':['uniform', 'distance']}\n",
    "KNN_grid_skb = GridSearchCV(KNN_model_skb, KNN_params_skb, cv=5)\n",
    "KNN_grid_skb.fit(train_X_skb, train_Y_skb)\n",
    "print('Best parameters for data:', KNN_grid_skb.best_params_)"
   ]
  },
  {
   "cell_type": "code",
   "execution_count": 122,
   "metadata": {},
   "outputs": [
    {
     "name": "stdout",
     "output_type": "stream",
     "text": [
      "Accuracy score for KNN Model with selectkbest is: 0.965034965034965\n",
      "\n",
      "Duration: 0:00:00.006004\n",
      "\n",
      "[0.95833333 0.95833333 1.         0.94680851 0.9893617 ]\n",
      "Average cross validated score from our KNN model using SelectKBest is: 0.9705673758865249\n"
     ]
    }
   ],
   "source": [
    "#initialize and train our model using the training set and selectkbest\n",
    "KNN_skb = KNeighborsClassifier(n_neighbors=5, weights='uniform')\n",
    "\n",
    "#set start time\n",
    "starttime_knn_skb = datetime.datetime.now()\n",
    "\n",
    "#fit and train the model\n",
    "KNN_skb.fit(train_X_skb,train_Y_skb)\n",
    "\n",
    "#Make predictions using test_X, and store results in new variable\n",
    "ypred_KNN_skb = KNN_skb.predict(test_X_skb)\n",
    "\n",
    "print('Accuracy score for KNN Model with selectkbest is: ' + str(metrics.accuracy_score(test_Y_skb, ypred_KNN_skb)))\n",
    "\n",
    "#calculate end time\n",
    "endtime_knn_skb = datetime.datetime.now()\n",
    "\n",
    "#print the execution run time for our model\n",
    "print('\\nDuration: {}'.format(endtime_knn_skb - starttime_knn_skb))\n",
    "print()\n",
    "\n",
    "\n",
    "KNN_cvs_skb = cross_val_score(KNN_skb, X, Y, cv=5, scoring='accuracy')\n",
    "print(KNN_cvs_skb)\n",
    "print('Average cross validated score from our KNN model using SelectKBest is: ' + str(np.mean(KNN_cvs_skb)))"
   ]
  },
  {
   "cell_type": "code",
   "execution_count": 123,
   "metadata": {},
   "outputs": [
    {
     "name": "stdout",
     "output_type": "stream",
     "text": [
      "AUC Score: 0.977\n"
     ]
    },
    {
     "data": {
      "image/png": "[encoded data removed]",
      "text/plain": [
       "<Figure size 432x288 with 1 Axes>"
      ]
     },
     "metadata": {
      "needs_background": "light"
     },
     "output_type": "display_data"
    },
    {
     "name": "stdout",
     "output_type": "stream",
     "text": [
      "              precision    recall  f1-score   support\n",
      "\n",
      "     Class_0       0.96      0.97      0.97        72\n",
      "     Class_1       0.97      0.96      0.96        71\n",
      "\n",
      "   micro avg       0.97      0.97      0.97       143\n",
      "   macro avg       0.97      0.96      0.97       143\n",
      "weighted avg       0.97      0.97      0.97       143\n",
      "\n"
     ]
    },
    {
     "data": {
      "text/plain": [
       "array([[70,  2],\n",
       "       [ 3, 68]], dtype=int64)"
      ]
     },
     "execution_count": 123,
     "metadata": {},
     "output_type": "execute_result"
    }
   ],
   "source": [
    "#Get AUC and create ROC\n",
    "# predict probabilities\n",
    "probs_KNN_skb = KNN_skb.predict_proba(test_X_skb)\n",
    "# keep probabilities for the positive outcome only\n",
    "probs_KNN_skb = probs_KNN_skb[:, 1]\n",
    "# calculate AUC\n",
    "KNN_auc_skb = roc_auc_score(test_Y_skb, probs_KNN_skb)\n",
    "print('AUC Score: %.3f' % KNN_auc_skb)\n",
    "# calculate roc curve\n",
    "fpr_KNN_skb, tpr_KNN_skb, thresholds_KNN_skb = roc_curve(test_Y_skb, probs_KNN_skb)\n",
    "# plot no skill\n",
    "plt.plot([0, 1], [0, 1], linestyle='--')\n",
    "# plot the roc curve for the model\n",
    "plt.plot(fpr_KNN_skb, tpr_KNN_skb, marker='.')\n",
    "# show the plot\n",
    "plt.show()\n",
    "\n",
    "# perform classification report of the KNN model\n",
    "class_names = ['Class_0', 'Class_1']\n",
    "KNN_report_skb = classification_report(test_Y_skb, ypred_KNN_skb, target_names=class_names)\n",
    "print(KNN_report_skb)\n",
    "\n",
    "# confusion Matrix\n",
    "confusion_matrix(test_Y_skb, ypred_KNN_skb)"
   ]
  },
  {
   "cell_type": "markdown",
   "metadata": {},
   "source": [
    "# SVM:"
   ]
  },
  {
   "cell_type": "code",
   "execution_count": 124,
   "metadata": {},
   "outputs": [
    {
     "name": "stdout",
     "output_type": "stream",
     "text": [
      "Accuracy score for svm Model: 0.965034965034965\n",
      "\n",
      "Duration: 0:00:00.067044\n",
      "\n",
      "[0.97916667 0.95833333 0.98958333 0.96808511 1.        ]\n",
      "Average accuracy score from our SVM model is: 0.9790336879432624\n"
     ]
    }
   ],
   "source": [
    "from sklearn.svm import SVC\n",
    "\n",
    "# Instantiate our model and fit using the full data\n",
    "svm = SVC(kernel = 'linear', probability=True, random_state=16)\n",
    "\n",
    "#set start time\n",
    "starttime_svm = datetime.datetime.now()\n",
    "\n",
    "#fit and train the model\n",
    "svm.fit(train_X, train_Y)\n",
    "\n",
    "# Classify, storing the result in a new variable.\n",
    "y_pred_svm = svm.predict(test_X)\n",
    "\n",
    "#get accuracy score from our model\n",
    "print('Accuracy score for svm Model: ' + str(metrics.accuracy_score(test_Y, y_pred_svm)))\n",
    "\n",
    "#calculate end time\n",
    "endtime_svm = datetime.datetime.now()\n",
    "\n",
    "#print the execution run time for our model\n",
    "print('\\nDuration: {}'.format(endtime_svm - starttime_svm))\n",
    "print()\n",
    "\n",
    "#get average accuracy score of svm model using cross validation\n",
    "svm_cvs = cross_val_score(svm, X, Y, cv=5, scoring='accuracy')\n",
    "print(svm_cvs)\n",
    "print('Average accuracy score from our SVM model is: ' + str(np.mean(svm_cvs)))"
   ]
  },
  {
   "cell_type": "code",
   "execution_count": 125,
   "metadata": {},
   "outputs": [
    {
     "name": "stdout",
     "output_type": "stream",
     "text": [
      "AUC Score: 0.995\n"
     ]
    },
    {
     "data": {
      "image/png": "[encoded data removed]",
      "text/plain": [
       "<Figure size 432x288 with 1 Axes>"
      ]
     },
     "metadata": {
      "needs_background": "light"
     },
     "output_type": "display_data"
    },
    {
     "name": "stdout",
     "output_type": "stream",
     "text": [
      "              precision    recall  f1-score   support\n",
      "\n",
      "     Class_0       0.99      0.95      0.97        73\n",
      "     Class_1       0.95      0.99      0.97        70\n",
      "\n",
      "   micro avg       0.97      0.97      0.97       143\n",
      "   macro avg       0.97      0.97      0.97       143\n",
      "weighted avg       0.97      0.97      0.97       143\n",
      "\n"
     ]
    },
    {
     "data": {
      "text/plain": [
       "array([[69,  4],\n",
       "       [ 1, 69]], dtype=int64)"
      ]
     },
     "execution_count": 125,
     "metadata": {},
     "output_type": "execute_result"
    }
   ],
   "source": [
    "#Get AUC and create ROC\n",
    "# predict probabilities\n",
    "probs_svm = svm.predict_proba(test_X)\n",
    "# keep probabilities for the positive outcome only\n",
    "probs_svm = probs_svm[:, 1]\n",
    "# calculate AUC\n",
    "svm_auc = roc_auc_score(test_Y, probs_svm)\n",
    "print('AUC Score: %.3f' % svm_auc)\n",
    "# calculate roc curve\n",
    "fpr_svm, tpr_svm, thresholds_svm = roc_curve(test_Y, probs_svm)\n",
    "# plot no skill\n",
    "plt.plot([0, 1], [0, 1], linestyle='--')\n",
    "# plot the roc curve for the model\n",
    "plt.plot(fpr_svm, tpr_svm, marker='.')\n",
    "# show the plot\n",
    "plt.show()\n",
    "\n",
    "# perform classification report of the svm model\n",
    "class_names = ['Class_0', 'Class_1']\n",
    "svm_report = classification_report(test_Y, y_pred_svm, target_names=class_names)\n",
    "print(svm_report)\n",
    "\n",
    "#create confusion matrix for svm\n",
    "confusion_matrix(test_Y, y_pred_svm)"
   ]
  },
  {
   "cell_type": "code",
   "execution_count": 126,
   "metadata": {},
   "outputs": [
    {
     "name": "stdout",
     "output_type": "stream",
     "text": [
      "Accuracy score for svm Model with PCA: 0.951048951048951\n",
      "\n",
      "Duration: 0:00:00.008006\n",
      "\n",
      "[0.97916667 0.95833333 0.98958333 0.96808511 1.        ]\n",
      "Average accuracy score from our SVM model is: 0.9790336879432624\n"
     ]
    }
   ],
   "source": [
    "from sklearn.svm import SVC\n",
    "\n",
    "# Instantiate our model and fit using the PCA\n",
    "svm_pca = SVC(kernel = 'linear', probability=True, random_state=16)\n",
    "\n",
    "#set start time\n",
    "starttime_svm_pca = datetime.datetime.now()\n",
    "\n",
    "#fit and train the model\n",
    "svm_pca.fit(train_X_pca, train_Y_pca)\n",
    "\n",
    "# Classify, storing the result in a new variable.\n",
    "ypred_svm_pca = svm_pca.predict(test_X_pca)\n",
    "\n",
    "#get accuracy score from our model\n",
    "print('Accuracy score for svm Model with PCA: ' + str(metrics.accuracy_score(test_Y_pca, ypred_svm_pca)))\n",
    "\n",
    "#calculate end time\n",
    "endtime_svm_pca = datetime.datetime.now()\n",
    "\n",
    "#print the execution run time for our model\n",
    "print('\\nDuration: {}'.format(endtime_svm_pca - starttime_svm_pca))\n",
    "print()\n",
    "\n",
    "#get average accuracy score of svm model using cross validation\n",
    "svm_cvs_pca = cross_val_score(svm_pca, X, Y, cv=5, scoring='accuracy')\n",
    "print(svm_cvs_pca)\n",
    "print('Average accuracy score from our SVM model is: ' + str(np.mean(svm_cvs_pca)))"
   ]
  },
  {
   "cell_type": "code",
   "execution_count": 127,
   "metadata": {},
   "outputs": [
    {
     "name": "stdout",
     "output_type": "stream",
     "text": [
      "AUC Score: 0.991\n"
     ]
    },
    {
     "data": {
      "image/png": "[encoded data removed]",
      "text/plain": [
       "<Figure size 432x288 with 1 Axes>"
      ]
     },
     "metadata": {
      "needs_background": "light"
     },
     "output_type": "display_data"
    },
    {
     "name": "stdout",
     "output_type": "stream",
     "text": [
      "              precision    recall  f1-score   support\n",
      "\n",
      "     Class_0       0.96      0.94      0.95        72\n",
      "     Class_1       0.94      0.96      0.95        71\n",
      "\n",
      "   micro avg       0.95      0.95      0.95       143\n",
      "   macro avg       0.95      0.95      0.95       143\n",
      "weighted avg       0.95      0.95      0.95       143\n",
      "\n"
     ]
    },
    {
     "data": {
      "text/plain": [
       "array([[68,  4],\n",
       "       [ 3, 68]], dtype=int64)"
      ]
     },
     "execution_count": 127,
     "metadata": {},
     "output_type": "execute_result"
    }
   ],
   "source": [
    "#Get AUC and create ROC\n",
    "# predict probabilities\n",
    "probs_svm_pca = svm_pca.predict_proba(test_X_pca)\n",
    "# keep probabilities for the positive outcome only\n",
    "probs_svm_pca = probs_svm_pca[:, 1]\n",
    "# calculate AUC\n",
    "svm_auc_pca = roc_auc_score(test_Y_pca, probs_svm_pca)\n",
    "print('AUC Score: %.3f' % svm_auc_pca)\n",
    "# calculate roc curve\n",
    "fpr_svm_pca, tpr_svm_pca, thresholds_svm_pca = roc_curve(test_Y_pca, probs_svm_pca)\n",
    "# plot no skill\n",
    "plt.plot([0, 1], [0, 1], linestyle='--')\n",
    "# plot the roc curve for the model\n",
    "plt.plot(fpr_svm_pca, tpr_svm_pca, marker='.')\n",
    "# show the plot\n",
    "plt.show()\n",
    "\n",
    "# perform classification report of the svm model\n",
    "class_names = ['Class_0', 'Class_1']\n",
    "svm_report_pca = classification_report(test_Y_pca, ypred_svm_pca, target_names=class_names)\n",
    "print(svm_report_pca)\n",
    "\n",
    "#create confusion matrix for svm\n",
    "confusion_matrix(test_Y_pca, ypred_svm_pca)"
   ]
  },
  {
   "cell_type": "code",
   "execution_count": 128,
   "metadata": {},
   "outputs": [
    {
     "name": "stdout",
     "output_type": "stream",
     "text": [
      "Accuracy score for svm Model with selectkbest: 0.965034965034965\n",
      "\n",
      "Duration: 0:00:00.009006\n",
      "\n",
      "[0.97916667 0.95833333 0.98958333 0.96808511 1.        ]\n",
      "Average accuracy score from our SVM model is: 0.9790336879432624\n"
     ]
    }
   ],
   "source": [
    "from sklearn.svm import SVC\n",
    "\n",
    "# Instantiate our model and fit using the full data\n",
    "svm_skb = SVC(kernel = 'linear', probability=True, random_state=16)\n",
    "\n",
    "#set start time\n",
    "starttime_skb = datetime.datetime.now()\n",
    "\n",
    "#fit and train the model\n",
    "svm_skb.fit(train_X_skb, train_Y_skb)\n",
    "\n",
    "# Classify, storing the result in a new variable.\n",
    "ypred_svm_skb = svm_skb.predict(test_X_skb)\n",
    "\n",
    "#get accuracy score from our model\n",
    "print('Accuracy score for svm Model with selectkbest: ' + str(metrics.accuracy_score(test_Y_skb, ypred_svm_skb)))\n",
    "\n",
    "#calculate end time\n",
    "endtime_skb = datetime.datetime.now()\n",
    "\n",
    "#print the execution run time for our model\n",
    "print('\\nDuration: {}'.format(endtime_skb - starttime_skb))\n",
    "print()\n",
    "\n",
    "#get average accuracy score of svm model using cross validation\n",
    "svm_cvs_skb = cross_val_score(svm_skb, X, Y, cv=5, scoring='accuracy')\n",
    "print(svm_cvs_skb)\n",
    "print('Average accuracy score from our SVM model is: ' + str(np.mean(svm_cvs_skb)))"
   ]
  },
  {
   "cell_type": "code",
   "execution_count": 129,
   "metadata": {},
   "outputs": [
    {
     "name": "stdout",
     "output_type": "stream",
     "text": [
      "AUC Score: 0.995\n"
     ]
    },
    {
     "data": {
      "image/png": "[encoded data removed]",
      "text/plain": [
       "<Figure size 432x288 with 1 Axes>"
      ]
     },
     "metadata": {
      "needs_background": "light"
     },
     "output_type": "display_data"
    },
    {
     "name": "stdout",
     "output_type": "stream",
     "text": [
      "              precision    recall  f1-score   support\n",
      "\n",
      "     Class_0       0.97      0.96      0.97        72\n",
      "     Class_1       0.96      0.97      0.97        71\n",
      "\n",
      "   micro avg       0.97      0.97      0.97       143\n",
      "   macro avg       0.97      0.97      0.97       143\n",
      "weighted avg       0.97      0.97      0.97       143\n",
      "\n"
     ]
    },
    {
     "data": {
      "text/plain": [
       "array([[69,  3],\n",
       "       [ 2, 69]], dtype=int64)"
      ]
     },
     "execution_count": 129,
     "metadata": {},
     "output_type": "execute_result"
    }
   ],
   "source": [
    "#Get AUC and create ROC\n",
    "# predict probabilities\n",
    "probs_svm_skb = svm_skb.predict_proba(test_X_skb)\n",
    "# keep probabilities for the positive outcome only\n",
    "probs_svm_skb = probs_svm_skb[:, 1]\n",
    "# calculate AUC\n",
    "svm_auc_skb = roc_auc_score(test_Y_skb, probs_svm_skb)\n",
    "print('AUC Score: %.3f' % svm_auc_skb)\n",
    "# calculate roc curve\n",
    "fpr_svm_skb, tpr_svm_skb, thresholds_svm_skb = roc_curve(test_Y_skb, probs_svm_skb)\n",
    "# plot no skill\n",
    "plt.plot([0, 1], [0, 1], linestyle='--')\n",
    "# plot the roc curve for the model\n",
    "plt.plot(fpr_svm_skb, tpr_svm_skb, marker='.')\n",
    "# show the plot\n",
    "plt.show()\n",
    "\n",
    "# perform classification report of the svm model\n",
    "class_names = ['Class_0', 'Class_1']\n",
    "svm_report_skb = classification_report(test_Y_skb, ypred_svm_skb, target_names=class_names)\n",
    "print(svm_report_skb)\n",
    "\n",
    "#create confusion matrix for svm\n",
    "confusion_matrix(test_Y_skb, ypred_svm_skb)"
   ]
  },
  {
   "cell_type": "markdown",
   "metadata": {},
   "source": [
    "# Conclusion"
   ]
  },
  {
   "cell_type": "markdown",
   "metadata": {},
   "source": [
    "### For the particular dataset that we have here with its specfic issues, such as the correlation among the indepedent variables and the non-linear relationship between the independent and dependent variables, I would suggest using the Random Forest Model.  It had a high average cross validated score of 98% and its sensitivity rate was also particularly high at 96% for class variable value of \"benign\" and 97% for class variable value \"malignant\".  Sensitivity is more important in this case because it is important to accurately predict each case of breast cancer."
   ]
  }
 ],
 "metadata": {
  "kernelspec": {
   "display_name": "Python 3",
   "language": "python",
   "name": "python3"
  },
  "language_info": {
   "codemirror_mode": {
    "name": "ipython",
    "version": 3
   },
   "file_extension": ".py",
   "mimetype": "text/x-python",
   "name": "python",
   "nbconvert_exporter": "python",
   "pygments_lexer": "ipython3",
   "version": "3.7.0"
  }
 },
 "nbformat": 4,
 "nbformat_minor": 2
}
